{
 "cells": [
  {
   "cell_type": "markdown",
   "id": "1d009188",
   "metadata": {},
   "source": [
    "<b>Objective</b></br>\n",
    "To build a regression model that predicts the total amount for each trip."
   ]
  },
  {
   "cell_type": "code",
   "execution_count": 1,
   "id": "15478686",
   "metadata": {},
   "outputs": [],
   "source": [
    "# import necessary libraries\n",
    "import numpy as np\n",
    "import pandas as pd\n",
    "import matplotlib.pyplot as plt\n",
    "%matplotlib inline\n",
    "import seaborn as sns\n",
    "\n",
    "import warnings\n",
    "warnings.filterwarnings('ignore')\n",
    "\n",
    "pd.options.display.max_columns = None\n",
    "\n",
    "from scipy import stats #shapiro - Normality, boxcox - transformation\n",
    "\n",
    "import statsmodels.api as sm #OLS, QQPLOT - Normality\n",
    "\n",
    "import statsmodels.stats.api as sms  #heteroskedasticity\n",
    "\n",
    "from statsmodels.stats.stattools import durbin_watson # autocorrelation\n",
    "\n",
    "from statsmodels.stats.outliers_influence import variance_inflation_factor # multicollinearity\n",
    "\n",
    "from sklearn.linear_model import LinearRegression # Linear regression model\n",
    "from sklearn.linear_model import SGDRegressor # Stochastic gradient descent\n",
    "from sklearn.linear_model import Ridge # ridge regularization\n",
    "from sklearn.linear_model import Lasso # lasso regualrization\n",
    "from sklearn.linear_model import ElasticNet # elasticnet regularization\n",
    "\n",
    "from sklearn.model_selection import train_test_split # train_test_split\n",
    "from sklearn.model_selection import KFold # Kfold\n",
    "from sklearn.model_selection import cross_val_score # kfold similar\n",
    "from sklearn.model_selection import LeaveOneOut # LOOCV\n",
    "from sklearn.model_selection import GridSearchCV # GridsearchCV\n",
    "\n",
    "from sklearn.metrics import mean_squared_error # performance measure\n",
    "from sklearn.metrics import mean_absolute_error # performance measure\n",
    "from sklearn.metrics import r2_score # performance measure\n",
    "from sklearn.metrics import mean_absolute_percentage_error # performance measure\n",
    "\n",
    "from mlxtend.feature_selection import SequentialFeatureSelector as sfs # feature selection\n",
    "from sklearn.feature_selection import RFE # RFE feature selection\n",
    "\n",
    "from sklearn.preprocessing import StandardScaler #feature scaling\n",
    "from sklearn.preprocessing import MinMaxScaler #feature scaling\n",
    "from sklearn.preprocessing import LabelEncoder #Label encoding\n",
    "from sklearn.preprocessing import OrdinalEncoder #Ordinal encoding\n",
    "\n",
    "from category_encoders import TargetEncoder # target encoding\n",
    "\n",
    "from sklearn.neighbors import KNeighborsRegressor  # Import KNN Regressor\n",
    "from sklearn.tree import DecisionTreeRegressor     # Import Decision Tree Regressor - include max_depth\n",
    "from sklearn.ensemble import RandomForestRegressor # Import Random Forest Regressor - include n_estimators and max_depth\n",
    "from sklearn.ensemble import AdaBoostRegressor     # Import AdaBoost Regressor\n",
    "from sklearn.ensemble import GradientBoostingRegressor # Import Gradient Boosting Regressor\n",
    "from xgboost import XGBRegressor # Import XGB Regressor"
   ]
  },
  {
   "cell_type": "code",
   "execution_count": 2,
   "id": "fabaf2c5",
   "metadata": {},
   "outputs": [
    {
     "data": {
      "text/html": [
       "<div>\n",
       "<style scoped>\n",
       "    .dataframe tbody tr th:only-of-type {\n",
       "        vertical-align: middle;\n",
       "    }\n",
       "\n",
       "    .dataframe tbody tr th {\n",
       "        vertical-align: top;\n",
       "    }\n",
       "\n",
       "    .dataframe thead th {\n",
       "        text-align: right;\n",
       "    }\n",
       "</style>\n",
       "<table border=\"1\" class=\"dataframe\">\n",
       "  <thead>\n",
       "    <tr style=\"text-align: right;\">\n",
       "      <th></th>\n",
       "      <th>VendorID</th>\n",
       "      <th>tpep_pickup_datetime</th>\n",
       "      <th>tpep_dropoff_datetime</th>\n",
       "      <th>passenger_count</th>\n",
       "      <th>trip_distance</th>\n",
       "      <th>RatecodeID</th>\n",
       "      <th>store_and_fwd_flag</th>\n",
       "      <th>PULocationID</th>\n",
       "      <th>DOLocationID</th>\n",
       "      <th>payment_type</th>\n",
       "      <th>fare_amount</th>\n",
       "      <th>extra</th>\n",
       "      <th>mta_tax</th>\n",
       "      <th>tip_amount</th>\n",
       "      <th>tolls_amount</th>\n",
       "      <th>improvement_surcharge</th>\n",
       "      <th>total_amount</th>\n",
       "      <th>congestion_surcharge</th>\n",
       "      <th>Airport_fee</th>\n",
       "      <th>PU_Borough</th>\n",
       "      <th>PU_Zone</th>\n",
       "      <th>PU_service_zone</th>\n",
       "      <th>DO_Borough</th>\n",
       "      <th>DO_Zone</th>\n",
       "      <th>DO_service_zone</th>\n",
       "      <th>trip_duration_secs</th>\n",
       "      <th>pickup_date</th>\n",
       "      <th>dropoff_date</th>\n",
       "      <th>pickup_hour</th>\n",
       "      <th>drop_hour</th>\n",
       "      <th>pickup_day</th>\n",
       "      <th>dropoff_day</th>\n",
       "    </tr>\n",
       "  </thead>\n",
       "  <tbody>\n",
       "    <tr>\n",
       "      <th>0</th>\n",
       "      <td>2</td>\n",
       "      <td>2023-04-03 16:00:05</td>\n",
       "      <td>2023-04-03 16:10:40</td>\n",
       "      <td>1</td>\n",
       "      <td>1.41</td>\n",
       "      <td>1.0</td>\n",
       "      <td>N</td>\n",
       "      <td>162</td>\n",
       "      <td>137</td>\n",
       "      <td>2</td>\n",
       "      <td>11.4</td>\n",
       "      <td>0.0</td>\n",
       "      <td>0.5</td>\n",
       "      <td>0.0</td>\n",
       "      <td>0.0</td>\n",
       "      <td>1.0</td>\n",
       "      <td>15.4</td>\n",
       "      <td>2.5</td>\n",
       "      <td>0.0</td>\n",
       "      <td>Manhattan</td>\n",
       "      <td>Midtown East</td>\n",
       "      <td>Yellow Zone</td>\n",
       "      <td>Manhattan</td>\n",
       "      <td>Kips Bay</td>\n",
       "      <td>Yellow Zone</td>\n",
       "      <td>635.0</td>\n",
       "      <td>2023-04-03</td>\n",
       "      <td>2023-04-03</td>\n",
       "      <td>16</td>\n",
       "      <td>16</td>\n",
       "      <td>Monday</td>\n",
       "      <td>Monday</td>\n",
       "    </tr>\n",
       "    <tr>\n",
       "      <th>1</th>\n",
       "      <td>2</td>\n",
       "      <td>2023-04-03 16:44:51</td>\n",
       "      <td>2023-04-03 16:49:59</td>\n",
       "      <td>1</td>\n",
       "      <td>0.78</td>\n",
       "      <td>1.0</td>\n",
       "      <td>N</td>\n",
       "      <td>43</td>\n",
       "      <td>230</td>\n",
       "      <td>2</td>\n",
       "      <td>6.5</td>\n",
       "      <td>0.0</td>\n",
       "      <td>0.5</td>\n",
       "      <td>0.0</td>\n",
       "      <td>0.0</td>\n",
       "      <td>1.0</td>\n",
       "      <td>10.5</td>\n",
       "      <td>2.5</td>\n",
       "      <td>0.0</td>\n",
       "      <td>Manhattan</td>\n",
       "      <td>Central Park</td>\n",
       "      <td>Yellow Zone</td>\n",
       "      <td>Manhattan</td>\n",
       "      <td>Times Sq/Theatre District</td>\n",
       "      <td>Yellow Zone</td>\n",
       "      <td>308.0</td>\n",
       "      <td>2023-04-03</td>\n",
       "      <td>2023-04-03</td>\n",
       "      <td>16</td>\n",
       "      <td>16</td>\n",
       "      <td>Monday</td>\n",
       "      <td>Monday</td>\n",
       "    </tr>\n",
       "    <tr>\n",
       "      <th>2</th>\n",
       "      <td>2</td>\n",
       "      <td>2023-04-03 16:00:26</td>\n",
       "      <td>2023-04-03 16:14:36</td>\n",
       "      <td>1</td>\n",
       "      <td>1.89</td>\n",
       "      <td>1.0</td>\n",
       "      <td>N</td>\n",
       "      <td>75</td>\n",
       "      <td>237</td>\n",
       "      <td>2</td>\n",
       "      <td>14.9</td>\n",
       "      <td>0.0</td>\n",
       "      <td>0.5</td>\n",
       "      <td>0.0</td>\n",
       "      <td>0.0</td>\n",
       "      <td>1.0</td>\n",
       "      <td>18.9</td>\n",
       "      <td>2.5</td>\n",
       "      <td>0.0</td>\n",
       "      <td>Manhattan</td>\n",
       "      <td>East Harlem South</td>\n",
       "      <td>Boro Zone</td>\n",
       "      <td>Manhattan</td>\n",
       "      <td>Upper East Side South</td>\n",
       "      <td>Yellow Zone</td>\n",
       "      <td>850.0</td>\n",
       "      <td>2023-04-03</td>\n",
       "      <td>2023-04-03</td>\n",
       "      <td>16</td>\n",
       "      <td>16</td>\n",
       "      <td>Monday</td>\n",
       "      <td>Monday</td>\n",
       "    </tr>\n",
       "    <tr>\n",
       "      <th>3</th>\n",
       "      <td>2</td>\n",
       "      <td>2023-04-03 16:00:13</td>\n",
       "      <td>2023-04-03 16:09:27</td>\n",
       "      <td>5</td>\n",
       "      <td>2.00</td>\n",
       "      <td>1.0</td>\n",
       "      <td>N</td>\n",
       "      <td>238</td>\n",
       "      <td>166</td>\n",
       "      <td>1</td>\n",
       "      <td>11.4</td>\n",
       "      <td>0.0</td>\n",
       "      <td>0.5</td>\n",
       "      <td>1.0</td>\n",
       "      <td>0.0</td>\n",
       "      <td>1.0</td>\n",
       "      <td>16.4</td>\n",
       "      <td>2.5</td>\n",
       "      <td>0.0</td>\n",
       "      <td>Manhattan</td>\n",
       "      <td>Upper West Side North</td>\n",
       "      <td>Yellow Zone</td>\n",
       "      <td>Manhattan</td>\n",
       "      <td>Morningside Heights</td>\n",
       "      <td>Boro Zone</td>\n",
       "      <td>554.0</td>\n",
       "      <td>2023-04-03</td>\n",
       "      <td>2023-04-03</td>\n",
       "      <td>16</td>\n",
       "      <td>16</td>\n",
       "      <td>Monday</td>\n",
       "      <td>Monday</td>\n",
       "    </tr>\n",
       "    <tr>\n",
       "      <th>4</th>\n",
       "      <td>2</td>\n",
       "      <td>2023-04-03 16:01:17</td>\n",
       "      <td>2023-04-03 16:14:46</td>\n",
       "      <td>1</td>\n",
       "      <td>2.19</td>\n",
       "      <td>1.0</td>\n",
       "      <td>N</td>\n",
       "      <td>229</td>\n",
       "      <td>234</td>\n",
       "      <td>1</td>\n",
       "      <td>14.2</td>\n",
       "      <td>0.0</td>\n",
       "      <td>0.5</td>\n",
       "      <td>1.0</td>\n",
       "      <td>0.0</td>\n",
       "      <td>1.0</td>\n",
       "      <td>19.2</td>\n",
       "      <td>2.5</td>\n",
       "      <td>0.0</td>\n",
       "      <td>Manhattan</td>\n",
       "      <td>Sutton Place/Turtle Bay North</td>\n",
       "      <td>Yellow Zone</td>\n",
       "      <td>Manhattan</td>\n",
       "      <td>Union Sq</td>\n",
       "      <td>Yellow Zone</td>\n",
       "      <td>809.0</td>\n",
       "      <td>2023-04-03</td>\n",
       "      <td>2023-04-03</td>\n",
       "      <td>16</td>\n",
       "      <td>16</td>\n",
       "      <td>Monday</td>\n",
       "      <td>Monday</td>\n",
       "    </tr>\n",
       "  </tbody>\n",
       "</table>\n",
       "</div>"
      ],
      "text/plain": [
       "   VendorID tpep_pickup_datetime tpep_dropoff_datetime  passenger_count  \\\n",
       "0         2  2023-04-03 16:00:05   2023-04-03 16:10:40                1   \n",
       "1         2  2023-04-03 16:44:51   2023-04-03 16:49:59                1   \n",
       "2         2  2023-04-03 16:00:26   2023-04-03 16:14:36                1   \n",
       "3         2  2023-04-03 16:00:13   2023-04-03 16:09:27                5   \n",
       "4         2  2023-04-03 16:01:17   2023-04-03 16:14:46                1   \n",
       "\n",
       "   trip_distance  RatecodeID store_and_fwd_flag  PULocationID  DOLocationID  \\\n",
       "0           1.41         1.0                  N           162           137   \n",
       "1           0.78         1.0                  N            43           230   \n",
       "2           1.89         1.0                  N            75           237   \n",
       "3           2.00         1.0                  N           238           166   \n",
       "4           2.19         1.0                  N           229           234   \n",
       "\n",
       "   payment_type  fare_amount  extra  mta_tax  tip_amount  tolls_amount  \\\n",
       "0             2         11.4    0.0      0.5         0.0           0.0   \n",
       "1             2          6.5    0.0      0.5         0.0           0.0   \n",
       "2             2         14.9    0.0      0.5         0.0           0.0   \n",
       "3             1         11.4    0.0      0.5         1.0           0.0   \n",
       "4             1         14.2    0.0      0.5         1.0           0.0   \n",
       "\n",
       "   improvement_surcharge  total_amount  congestion_surcharge  Airport_fee  \\\n",
       "0                    1.0          15.4                   2.5          0.0   \n",
       "1                    1.0          10.5                   2.5          0.0   \n",
       "2                    1.0          18.9                   2.5          0.0   \n",
       "3                    1.0          16.4                   2.5          0.0   \n",
       "4                    1.0          19.2                   2.5          0.0   \n",
       "\n",
       "  PU_Borough                        PU_Zone PU_service_zone DO_Borough  \\\n",
       "0  Manhattan                   Midtown East     Yellow Zone  Manhattan   \n",
       "1  Manhattan                   Central Park     Yellow Zone  Manhattan   \n",
       "2  Manhattan              East Harlem South       Boro Zone  Manhattan   \n",
       "3  Manhattan          Upper West Side North     Yellow Zone  Manhattan   \n",
       "4  Manhattan  Sutton Place/Turtle Bay North     Yellow Zone  Manhattan   \n",
       "\n",
       "                     DO_Zone DO_service_zone  trip_duration_secs pickup_date  \\\n",
       "0                   Kips Bay     Yellow Zone               635.0  2023-04-03   \n",
       "1  Times Sq/Theatre District     Yellow Zone               308.0  2023-04-03   \n",
       "2      Upper East Side South     Yellow Zone               850.0  2023-04-03   \n",
       "3        Morningside Heights       Boro Zone               554.0  2023-04-03   \n",
       "4                   Union Sq     Yellow Zone               809.0  2023-04-03   \n",
       "\n",
       "  dropoff_date  pickup_hour  drop_hour pickup_day dropoff_day  \n",
       "0   2023-04-03           16         16     Monday      Monday  \n",
       "1   2023-04-03           16         16     Monday      Monday  \n",
       "2   2023-04-03           16         16     Monday      Monday  \n",
       "3   2023-04-03           16         16     Monday      Monday  \n",
       "4   2023-04-03           16         16     Monday      Monday  "
      ]
     },
     "execution_count": 2,
     "metadata": {},
     "output_type": "execute_result"
    }
   ],
   "source": [
    "# import the cleaned dataset\n",
    "df = pd.read_csv('cleaned_taxi_dataset.csv')\n",
    "\n",
    "df.head()"
   ]
  },
  {
   "cell_type": "code",
   "execution_count": 4,
   "id": "2591f07e",
   "metadata": {},
   "outputs": [
    {
     "data": {
      "text/plain": [
       "(132015, 32)"
      ]
     },
     "execution_count": 4,
     "metadata": {},
     "output_type": "execute_result"
    }
   ],
   "source": [
    "# dataframe shape\n",
    "df.shape"
   ]
  },
  {
   "cell_type": "code",
   "execution_count": 5,
   "id": "c80f049d",
   "metadata": {},
   "outputs": [
    {
     "name": "stdout",
     "output_type": "stream",
     "text": [
      "<class 'pandas.core.frame.DataFrame'>\n",
      "RangeIndex: 132015 entries, 0 to 132014\n",
      "Data columns (total 32 columns):\n",
      " #   Column                 Non-Null Count   Dtype  \n",
      "---  ------                 --------------   -----  \n",
      " 0   VendorID               132015 non-null  int64  \n",
      " 1   tpep_pickup_datetime   132015 non-null  object \n",
      " 2   tpep_dropoff_datetime  132015 non-null  object \n",
      " 3   passenger_count        132015 non-null  int64  \n",
      " 4   trip_distance          132015 non-null  float64\n",
      " 5   RatecodeID             132015 non-null  float64\n",
      " 6   store_and_fwd_flag     132015 non-null  object \n",
      " 7   PULocationID           132015 non-null  int64  \n",
      " 8   DOLocationID           132015 non-null  int64  \n",
      " 9   payment_type           132015 non-null  int64  \n",
      " 10  fare_amount            132015 non-null  float64\n",
      " 11  extra                  132015 non-null  float64\n",
      " 12  mta_tax                132015 non-null  float64\n",
      " 13  tip_amount             132015 non-null  float64\n",
      " 14  tolls_amount           132015 non-null  float64\n",
      " 15  improvement_surcharge  132015 non-null  float64\n",
      " 16  total_amount           132015 non-null  float64\n",
      " 17  congestion_surcharge   132015 non-null  float64\n",
      " 18  Airport_fee            132015 non-null  float64\n",
      " 19  PU_Borough             132015 non-null  object \n",
      " 20  PU_Zone                132015 non-null  object \n",
      " 21  PU_service_zone        132015 non-null  object \n",
      " 22  DO_Borough             132015 non-null  object \n",
      " 23  DO_Zone                132015 non-null  object \n",
      " 24  DO_service_zone        132015 non-null  object \n",
      " 25  trip_duration_secs     132015 non-null  float64\n",
      " 26  pickup_date            132015 non-null  object \n",
      " 27  dropoff_date           132015 non-null  object \n",
      " 28  pickup_hour            132015 non-null  int64  \n",
      " 29  drop_hour              132015 non-null  int64  \n",
      " 30  pickup_day             132015 non-null  object \n",
      " 31  dropoff_day            132015 non-null  object \n",
      "dtypes: float64(12), int64(7), object(13)\n",
      "memory usage: 32.2+ MB\n"
     ]
    }
   ],
   "source": [
    "df.info()"
   ]
  },
  {
   "cell_type": "code",
   "execution_count": 3,
   "id": "7ef3dca2",
   "metadata": {},
   "outputs": [],
   "source": [
    "# date time dtype conversion\n",
    "df['tpep_pickup_datetime'] = pd.to_datetime(df['tpep_pickup_datetime'])\n",
    "df['tpep_dropoff_datetime'] = pd.to_datetime(df['tpep_dropoff_datetime'])"
   ]
  },
  {
   "cell_type": "code",
   "execution_count": 4,
   "id": "df617c6b",
   "metadata": {},
   "outputs": [],
   "source": [
    "# create a new feature \"pickup_minutes\"\n",
    "df['pickup_mins'] = df['tpep_pickup_datetime'].dt.minute"
   ]
  },
  {
   "cell_type": "markdown",
   "id": "f378fcfc",
   "metadata": {},
   "source": [
    "<b>Linear Regression Models with all features</b>"
   ]
  },
  {
   "cell_type": "code",
   "execution_count": 5,
   "id": "8adfd40d",
   "metadata": {},
   "outputs": [],
   "source": [
    "# create a copy of the dataframe\n",
    "df1 = df.copy()"
   ]
  },
  {
   "cell_type": "code",
   "execution_count": 6,
   "id": "cdb22403",
   "metadata": {},
   "outputs": [],
   "source": [
    "# as it can be seen from the five point summary, mta_tax and improvement surcharge has zero standard deviation. \n",
    "# Hence, it can be removed.\n",
    "\n",
    "df1.drop(columns = ['mta_tax', 'improvement_surcharge'], inplace  = True )"
   ]
  },
  {
   "cell_type": "code",
   "execution_count": 7,
   "id": "64e79cea",
   "metadata": {},
   "outputs": [],
   "source": [
    "# removing pickup dates and dropoff dates from the dataframe\n",
    "df1.drop(columns = ['pickup_date', 'dropoff_date', 'tpep_pickup_datetime', 'tpep_dropoff_datetime'], inplace = True)"
   ]
  },
  {
   "cell_type": "code",
   "execution_count": 8,
   "id": "d3b83d1f",
   "metadata": {},
   "outputs": [],
   "source": [
    "# dropping other additional columns\n",
    "df1.drop(columns = ['PU_Borough', 'PU_Zone', 'PU_service_zone', 'DO_Borough', 'DO_Zone', 'DO_service_zone', 'dropoff_day'], inplace = True)"
   ]
  },
  {
   "cell_type": "code",
   "execution_count": 9,
   "id": "7185c6b5",
   "metadata": {},
   "outputs": [
    {
     "name": "stdout",
     "output_type": "stream",
     "text": [
      "<class 'pandas.core.frame.DataFrame'>\n",
      "RangeIndex: 132015 entries, 0 to 132014\n",
      "Data columns (total 20 columns):\n",
      " #   Column                Non-Null Count   Dtype  \n",
      "---  ------                --------------   -----  \n",
      " 0   VendorID              132015 non-null  int64  \n",
      " 1   passenger_count       132015 non-null  int64  \n",
      " 2   trip_distance         132015 non-null  float64\n",
      " 3   RatecodeID            132015 non-null  float64\n",
      " 4   store_and_fwd_flag    132015 non-null  object \n",
      " 5   PULocationID          132015 non-null  int64  \n",
      " 6   DOLocationID          132015 non-null  int64  \n",
      " 7   payment_type          132015 non-null  int64  \n",
      " 8   fare_amount           132015 non-null  float64\n",
      " 9   extra                 132015 non-null  float64\n",
      " 10  tip_amount            132015 non-null  float64\n",
      " 11  tolls_amount          132015 non-null  float64\n",
      " 12  total_amount          132015 non-null  float64\n",
      " 13  congestion_surcharge  132015 non-null  float64\n",
      " 14  Airport_fee           132015 non-null  float64\n",
      " 15  trip_duration_secs    132015 non-null  float64\n",
      " 16  pickup_hour           132015 non-null  int64  \n",
      " 17  drop_hour             132015 non-null  int64  \n",
      " 18  pickup_day            132015 non-null  object \n",
      " 19  pickup_mins           132015 non-null  int64  \n",
      "dtypes: float64(10), int64(8), object(2)\n",
      "memory usage: 20.1+ MB\n"
     ]
    }
   ],
   "source": [
    "df1.info()"
   ]
  },
  {
   "cell_type": "code",
   "execution_count": 10,
   "id": "2ceb4622",
   "metadata": {},
   "outputs": [],
   "source": [
    "# Dtype conversion\n",
    "df1['VendorID'] = df1['VendorID'].astype(object)\n",
    "df1['passenger_count'] = df1['passenger_count'].astype(object)\n",
    "df1['RatecodeID'] = df1['RatecodeID'].astype(object)\n",
    "df1['payment_type'] = df1['payment_type'].astype(object)\n",
    "df1['pickup_hour'] = df1['pickup_hour'].astype(object)\n",
    "df1['drop_hour'] = df1['drop_hour'].astype(object)"
   ]
  },
  {
   "cell_type": "code",
   "execution_count": 11,
   "id": "5cf01ff7",
   "metadata": {},
   "outputs": [],
   "source": [
    "# split target and predictor variables\n",
    "df_target = df1['total_amount']\n",
    "df_ivs = df1.drop('total_amount',axis=1)"
   ]
  },
  {
   "cell_type": "code",
   "execution_count": 12,
   "id": "7efadead",
   "metadata": {},
   "outputs": [
    {
     "data": {
      "text/plain": [
       "Index(['VendorID', 'passenger_count', 'trip_distance', 'RatecodeID',\n",
       "       'store_and_fwd_flag', 'PULocationID', 'DOLocationID', 'payment_type',\n",
       "       'fare_amount', 'extra', 'tip_amount', 'tolls_amount',\n",
       "       'congestion_surcharge', 'Airport_fee', 'trip_duration_secs',\n",
       "       'pickup_hour', 'drop_hour', 'pickup_day', 'pickup_mins'],\n",
       "      dtype='object')"
      ]
     },
     "execution_count": 12,
     "metadata": {},
     "output_type": "execute_result"
    }
   ],
   "source": [
    "# columns of predictor variables\n",
    "df_ivs.columns"
   ]
  },
  {
   "cell_type": "code",
   "execution_count": 13,
   "id": "e1c67cde",
   "metadata": {},
   "outputs": [],
   "source": [
    "# create separate dataframes for numeric and categoric variables\n",
    "df_numeric = df_ivs.select_dtypes(np.number).drop(columns=['PULocationID', 'DOLocationID','pickup_mins'])\n",
    "df_cat = df_ivs.select_dtypes(exclude=np.number)\n",
    "\n",
    "# creating another copy of categoric variables; for now, these will not be encoded\n",
    "df_cat1 = df_ivs[['PULocationID', 'DOLocationID','pickup_mins']] "
   ]
  },
  {
   "cell_type": "code",
   "execution_count": 14,
   "id": "5229cc6b",
   "metadata": {},
   "outputs": [],
   "source": [
    "# scaling and encoding of numeric and categoric variables\n",
    "df_num_scaled = df_numeric.apply(stats.zscore) # standard scaling\n",
    "df_cat_enc = pd.get_dummies(df_cat, drop_first=True) # onehot encoding"
   ]
  },
  {
   "cell_type": "code",
   "execution_count": 15,
   "id": "80cdb03e",
   "metadata": {},
   "outputs": [],
   "source": [
    "# concat the final df for building the linear models\n",
    "df_ivs = pd.concat([df_num_scaled, df_cat_enc, df_cat1], axis=1)"
   ]
  },
  {
   "cell_type": "markdown",
   "id": "ca0f45f6",
   "metadata": {},
   "source": [
    "<b> LR Variant 1 </b></br>\n",
    "Independent variables - scaled and one hot encoded; Target variable - no changes"
   ]
  },
  {
   "cell_type": "code",
   "execution_count": 16,
   "id": "7e3d510f",
   "metadata": {},
   "outputs": [
    {
     "data": {
      "text/html": [
       "<div>\n",
       "<style scoped>\n",
       "    .dataframe tbody tr th:only-of-type {\n",
       "        vertical-align: middle;\n",
       "    }\n",
       "\n",
       "    .dataframe tbody tr th {\n",
       "        vertical-align: top;\n",
       "    }\n",
       "\n",
       "    .dataframe thead th {\n",
       "        text-align: right;\n",
       "    }\n",
       "</style>\n",
       "<table border=\"1\" class=\"dataframe\">\n",
       "  <thead>\n",
       "    <tr style=\"text-align: right;\">\n",
       "      <th></th>\n",
       "      <th>vif_factor</th>\n",
       "      <th>vif_features</th>\n",
       "    </tr>\n",
       "  </thead>\n",
       "  <tbody>\n",
       "    <tr>\n",
       "      <th>24</th>\n",
       "      <td>3.828806</td>\n",
       "      <td>drop_hour_18</td>\n",
       "    </tr>\n",
       "    <tr>\n",
       "      <th>21</th>\n",
       "      <td>3.595322</td>\n",
       "      <td>pickup_hour_18</td>\n",
       "    </tr>\n",
       "    <tr>\n",
       "      <th>20</th>\n",
       "      <td>3.455302</td>\n",
       "      <td>pickup_hour_17</td>\n",
       "    </tr>\n",
       "    <tr>\n",
       "      <th>31</th>\n",
       "      <td>3.374404</td>\n",
       "      <td>pickup_mins</td>\n",
       "    </tr>\n",
       "    <tr>\n",
       "      <th>6</th>\n",
       "      <td>3.279300</td>\n",
       "      <td>VendorID_2</td>\n",
       "    </tr>\n",
       "    <tr>\n",
       "      <th>23</th>\n",
       "      <td>3.255491</td>\n",
       "      <td>drop_hour_17</td>\n",
       "    </tr>\n",
       "    <tr>\n",
       "      <th>4</th>\n",
       "      <td>3.134549</td>\n",
       "      <td>Airport_fee</td>\n",
       "    </tr>\n",
       "    <tr>\n",
       "      <th>2</th>\n",
       "      <td>2.989014</td>\n",
       "      <td>tolls_amount</td>\n",
       "    </tr>\n",
       "    <tr>\n",
       "      <th>0</th>\n",
       "      <td>2.554711</td>\n",
       "      <td>extra</td>\n",
       "    </tr>\n",
       "    <tr>\n",
       "      <th>5</th>\n",
       "      <td>2.283422</td>\n",
       "      <td>trip_duration_secs</td>\n",
       "    </tr>\n",
       "    <tr>\n",
       "      <th>1</th>\n",
       "      <td>2.272583</td>\n",
       "      <td>tip_amount</td>\n",
       "    </tr>\n",
       "    <tr>\n",
       "      <th>12</th>\n",
       "      <td>2.204814</td>\n",
       "      <td>RatecodeID_2.0</td>\n",
       "    </tr>\n",
       "    <tr>\n",
       "      <th>22</th>\n",
       "      <td>2.035187</td>\n",
       "      <td>pickup_hour_19</td>\n",
       "    </tr>\n",
       "    <tr>\n",
       "      <th>17</th>\n",
       "      <td>1.802447</td>\n",
       "      <td>payment_type_2</td>\n",
       "    </tr>\n",
       "    <tr>\n",
       "      <th>30</th>\n",
       "      <td>1.794298</td>\n",
       "      <td>pickup_day_Wednesday</td>\n",
       "    </tr>\n",
       "    <tr>\n",
       "      <th>29</th>\n",
       "      <td>1.744387</td>\n",
       "      <td>pickup_day_Tuesday</td>\n",
       "    </tr>\n",
       "    <tr>\n",
       "      <th>28</th>\n",
       "      <td>1.705359</td>\n",
       "      <td>pickup_day_Thursday</td>\n",
       "    </tr>\n",
       "    <tr>\n",
       "      <th>27</th>\n",
       "      <td>1.637908</td>\n",
       "      <td>pickup_day_Monday</td>\n",
       "    </tr>\n",
       "    <tr>\n",
       "      <th>13</th>\n",
       "      <td>1.593392</td>\n",
       "      <td>RatecodeID_3.0</td>\n",
       "    </tr>\n",
       "    <tr>\n",
       "      <th>3</th>\n",
       "      <td>1.483311</td>\n",
       "      <td>congestion_surcharge</td>\n",
       "    </tr>\n",
       "    <tr>\n",
       "      <th>25</th>\n",
       "      <td>1.364994</td>\n",
       "      <td>drop_hour_20</td>\n",
       "    </tr>\n",
       "    <tr>\n",
       "      <th>7</th>\n",
       "      <td>1.192248</td>\n",
       "      <td>passenger_count_2</td>\n",
       "    </tr>\n",
       "    <tr>\n",
       "      <th>8</th>\n",
       "      <td>1.061945</td>\n",
       "      <td>passenger_count_3</td>\n",
       "    </tr>\n",
       "    <tr>\n",
       "      <th>9</th>\n",
       "      <td>1.049165</td>\n",
       "      <td>passenger_count_4</td>\n",
       "    </tr>\n",
       "    <tr>\n",
       "      <th>19</th>\n",
       "      <td>1.026847</td>\n",
       "      <td>payment_type_4</td>\n",
       "    </tr>\n",
       "    <tr>\n",
       "      <th>10</th>\n",
       "      <td>1.020094</td>\n",
       "      <td>passenger_count_5</td>\n",
       "    </tr>\n",
       "    <tr>\n",
       "      <th>15</th>\n",
       "      <td>1.018013</td>\n",
       "      <td>RatecodeID_5.0</td>\n",
       "    </tr>\n",
       "    <tr>\n",
       "      <th>18</th>\n",
       "      <td>1.014485</td>\n",
       "      <td>payment_type_3</td>\n",
       "    </tr>\n",
       "    <tr>\n",
       "      <th>16</th>\n",
       "      <td>1.013523</td>\n",
       "      <td>store_and_fwd_flag_Y</td>\n",
       "    </tr>\n",
       "    <tr>\n",
       "      <th>11</th>\n",
       "      <td>1.012791</td>\n",
       "      <td>passenger_count_6</td>\n",
       "    </tr>\n",
       "    <tr>\n",
       "      <th>14</th>\n",
       "      <td>1.005860</td>\n",
       "      <td>RatecodeID_4.0</td>\n",
       "    </tr>\n",
       "    <tr>\n",
       "      <th>26</th>\n",
       "      <td>1.003720</td>\n",
       "      <td>drop_hour_21</td>\n",
       "    </tr>\n",
       "  </tbody>\n",
       "</table>\n",
       "</div>"
      ],
      "text/plain": [
       "    vif_factor          vif_features\n",
       "24    3.828806          drop_hour_18\n",
       "21    3.595322        pickup_hour_18\n",
       "20    3.455302        pickup_hour_17\n",
       "31    3.374404           pickup_mins\n",
       "6     3.279300            VendorID_2\n",
       "23    3.255491          drop_hour_17\n",
       "4     3.134549           Airport_fee\n",
       "2     2.989014          tolls_amount\n",
       "0     2.554711                 extra\n",
       "5     2.283422    trip_duration_secs\n",
       "1     2.272583            tip_amount\n",
       "12    2.204814        RatecodeID_2.0\n",
       "22    2.035187        pickup_hour_19\n",
       "17    1.802447        payment_type_2\n",
       "30    1.794298  pickup_day_Wednesday\n",
       "29    1.744387    pickup_day_Tuesday\n",
       "28    1.705359   pickup_day_Thursday\n",
       "27    1.637908     pickup_day_Monday\n",
       "13    1.593392        RatecodeID_3.0\n",
       "3     1.483311  congestion_surcharge\n",
       "25    1.364994          drop_hour_20\n",
       "7     1.192248     passenger_count_2\n",
       "8     1.061945     passenger_count_3\n",
       "9     1.049165     passenger_count_4\n",
       "19    1.026847        payment_type_4\n",
       "10    1.020094     passenger_count_5\n",
       "15    1.018013        RatecodeID_5.0\n",
       "18    1.014485        payment_type_3\n",
       "16    1.013523  store_and_fwd_flag_Y\n",
       "11    1.012791     passenger_count_6\n",
       "14    1.005860        RatecodeID_4.0\n",
       "26    1.003720          drop_hour_21"
      ]
     },
     "execution_count": 16,
     "metadata": {},
     "output_type": "execute_result"
    }
   ],
   "source": [
    "# dropping the attributes with high vif to remove multicorrelation\n",
    "\n",
    "df_ivs_copy = df_ivs.copy()\n",
    "while True:\n",
    "    vif_factor = [variance_inflation_factor(df_ivs_copy.values, i) for i in range(len(df_ivs_copy.columns))]\n",
    "    vif_features = df_ivs_copy.columns\n",
    "    vif = pd.DataFrame({'vif_factor': vif_factor, 'vif_features':vif_features})\n",
    "    if vif['vif_factor'].max() > 5:\n",
    "        df_ivs_copy.drop(vif['vif_features'][vif['vif_factor'] == vif['vif_factor'].max()], axis=1, inplace=True)\n",
    "    else:\n",
    "        break\n",
    "\n",
    "vif.sort_values(by='vif_factor',ascending=False)"
   ]
  },
  {
   "cell_type": "code",
   "execution_count": 24,
   "id": "c4c0114f",
   "metadata": {},
   "outputs": [
    {
     "data": {
      "text/plain": [
       "(132015, 32)"
      ]
     },
     "execution_count": 24,
     "metadata": {},
     "output_type": "execute_result"
    }
   ],
   "source": [
    "# shape of the dataframe\n",
    "df_ivs_copy.shape"
   ]
  },
  {
   "cell_type": "code",
   "execution_count": 17,
   "id": "fa80f677",
   "metadata": {},
   "outputs": [
    {
     "name": "stdout",
     "output_type": "stream",
     "text": [
      "X_train_full (92410, 33)\n",
      "y_train_full (92410,)\n",
      "X_test_full (39605, 33)\n",
      "y_test_full (39605,)\n"
     ]
    }
   ],
   "source": [
    "# split train and test data using the selected variables after VIF\n",
    "\n",
    "X= df_ivs_copy\n",
    "y= df_target\n",
    "\n",
    "# adding constant to the predictor\n",
    "X = sm.add_constant(X)\n",
    "\n",
    "# train_test_splitting \n",
    "X_train,X_test,y_train,y_test = train_test_split(X,y,test_size = 0.3, random_state=0)\n",
    "\n",
    "# checking the dimensions of the train & test subset\n",
    "# print dimension of train set\n",
    "print('X_train_full', X_train.shape)\n",
    "print('y_train_full', y_train.shape)\n",
    "\n",
    "# print dimension of test set\n",
    "print('X_test_full', X_test.shape)\n",
    "print('y_test_full', y_test.shape)"
   ]
  },
  {
   "cell_type": "code",
   "execution_count": 18,
   "id": "a1041089",
   "metadata": {},
   "outputs": [
    {
     "name": "stdout",
     "output_type": "stream",
     "text": [
      "                            OLS Regression Results                            \n",
      "==============================================================================\n",
      "Dep. Variable:           total_amount   R-squared:                       0.959\n",
      "Model:                            OLS   Adj. R-squared:                  0.959\n",
      "Method:                 Least Squares   F-statistic:                 6.831e+04\n",
      "Date:                Sun, 15 Oct 2023   Prob (F-statistic):               0.00\n",
      "Time:                        15:50:34   Log-Likelihood:            -2.6288e+05\n",
      "No. Observations:               92410   AIC:                         5.258e+05\n",
      "Df Residuals:                   92377   BIC:                         5.261e+05\n",
      "Df Model:                          32                                         \n",
      "Covariance Type:            nonrobust                                         \n",
      "========================================================================================\n",
      "                           coef    std err          t      P>|t|      [0.025      0.975]\n",
      "----------------------------------------------------------------------------------------\n",
      "const                   27.4719      0.056    493.397      0.000      27.363      27.581\n",
      "extra                    0.7891      0.022     36.170      0.000       0.746       0.832\n",
      "tip_amount               5.0013      0.020    244.365      0.000       4.961       5.041\n",
      "tolls_amount             3.8576      0.024    162.126      0.000       3.811       3.904\n",
      "congestion_surcharge    -0.3307      0.017    -19.837      0.000      -0.363      -0.298\n",
      "Airport_fee              3.0504      0.024    125.976      0.000       3.003       3.098\n",
      "trip_duration_secs      10.1679      0.021    492.733      0.000      10.127      10.208\n",
      "VendorID_2               0.6814      0.032     21.533      0.000       0.619       0.743\n",
      "passenger_count_2        0.0866      0.039      2.214      0.027       0.010       0.163\n",
      "passenger_count_3       -0.0303      0.066     -0.457      0.647      -0.160       0.100\n",
      "passenger_count_4        0.1113      0.082      1.361      0.174      -0.049       0.272\n",
      "passenger_count_5        0.0269      0.122      0.220      0.826      -0.213       0.267\n",
      "passenger_count_6       -0.0511      0.155     -0.330      0.741      -0.354       0.252\n",
      "RatecodeID_2.0          10.0206      0.099    101.355      0.000       9.827      10.214\n",
      "RatecodeID_3.0          25.4919      0.372     68.477      0.000      24.762      26.222\n",
      "RatecodeID_4.0          33.3013      1.157     28.772      0.000      31.033      35.570\n",
      "RatecodeID_5.0          25.6211      0.593     43.198      0.000      24.459      26.784\n",
      "store_and_fwd_flag_Y     0.0605      0.198      0.306      0.760      -0.327       0.448\n",
      "payment_type_2           1.1407      0.044     25.770      0.000       1.054       1.227\n",
      "payment_type_3           1.0349      0.257      4.024      0.000       0.531       1.539\n",
      "payment_type_4           1.2588      0.183      6.864      0.000       0.899       1.618\n",
      "pickup_hour_17           1.0892      0.050     21.810      0.000       0.991       1.187\n",
      "pickup_hour_18           1.8266      0.052     35.379      0.000       1.725       1.928\n",
      "pickup_hour_19           1.2020      0.046     26.058      0.000       1.112       1.292\n",
      "drop_hour_17            -0.8924      0.050    -17.700      0.000      -0.991      -0.794\n",
      "drop_hour_18            -1.2960      0.051    -25.555      0.000      -1.395      -1.197\n",
      "drop_hour_20             2.3758      0.077     30.788      0.000       2.225       2.527\n",
      "drop_hour_21           -20.0731      2.409     -8.332      0.000     -24.795     -15.351\n",
      "pickup_day_Monday       -0.1521      0.045     -3.386      0.001      -0.240      -0.064\n",
      "pickup_day_Thursday     -0.0662      0.044     -1.508      0.132      -0.152       0.020\n",
      "pickup_day_Tuesday       0.0701      0.043      1.614      0.106      -0.015       0.155\n",
      "pickup_day_Wednesday    -1.4078      0.043    -32.575      0.000      -1.492      -1.323\n",
      "pickup_mins              0.0027      0.001      3.291      0.001       0.001       0.004\n",
      "==============================================================================\n",
      "Omnibus:                    48738.420   Durbin-Watson:                   2.013\n",
      "Prob(Omnibus):                  0.000   Jarque-Bera (JB):          6108376.702\n",
      "Skew:                           1.556   Prob(JB):                         0.00\n",
      "Kurtosis:                      42.708   Cond. No.                     5.96e+03\n",
      "==============================================================================\n",
      "\n",
      "Notes:\n",
      "[1] Standard Errors assume that the covariance matrix of the errors is correctly specified.\n",
      "[2] The condition number is large, 5.96e+03. This might indicate that there are\n",
      "strong multicollinearity or other numerical problems.\n"
     ]
    }
   ],
   "source": [
    "# base LR model summary\n",
    "model1 = sm.OLS(y_train, X_train).fit()\n",
    "print(model1.summary())"
   ]
  },
  {
   "cell_type": "code",
   "execution_count": 28,
   "id": "827649cc",
   "metadata": {},
   "outputs": [
    {
     "data": {
      "text/plain": [
       "7"
      ]
     },
     "execution_count": 28,
     "metadata": {},
     "output_type": "execute_result"
    }
   ],
   "source": [
    "# filter the number of variables which has p-value greater than 0.5\n",
    "(model1.pvalues>0.05).sum()"
   ]
  },
  {
   "cell_type": "code",
   "execution_count": null,
   "id": "5a38d1be",
   "metadata": {},
   "outputs": [],
   "source": [
    "# 7 variables found to be insignificant in the first base model"
   ]
  },
  {
   "cell_type": "code",
   "execution_count": null,
   "id": "c59729c0",
   "metadata": {},
   "outputs": [],
   "source": [
    "### Assumptions before:\n",
    "# 1. target variable numerical - Satisfied\n",
    "# 2. No multicolinearity - Not Satisfied (Even though the VIF gave values less than 5, multicollinearity exists as Condition \n",
    "# number is greater thatn 100)\n",
    "\n",
    "### Assumptions after:\n",
    "# 3. No autocorrelation - Satisfied (As durbin-watson is giving a value of nearly 2)\n",
    "# 4. Normality among residuals - Not satisfied (As the probability of JB is 0 which is less than the alpha value of 0.05)\n",
    "# (The other assumptions will be checked after building the final model)\n"
   ]
  },
  {
   "cell_type": "code",
   "execution_count": null,
   "id": "3b54b97c",
   "metadata": {},
   "outputs": [],
   "source": [
    "# Since the assumptions did not satisfy for the variant 1. Lets try by transforming the target variable."
   ]
  },
  {
   "cell_type": "markdown",
   "id": "39539841",
   "metadata": {},
   "source": [
    "<b> LR Variant 2 </b></br>\n",
    "Independent variables - scaled and target encoded location IDs; Target variable - Transformed"
   ]
  },
  {
   "cell_type": "code",
   "execution_count": 33,
   "id": "08db09e5",
   "metadata": {},
   "outputs": [],
   "source": [
    "# create a copy of the target variable\n",
    "df_target = df1['total_amount']"
   ]
  },
  {
   "cell_type": "code",
   "execution_count": 30,
   "id": "95ace60e",
   "metadata": {},
   "outputs": [
    {
     "name": "stdout",
     "output_type": "stream",
     "text": [
      "Skewness box_cox_trans: 0.06802662904837349\n",
      "Skewness sqrt_trans: 1.865173544772445\n",
      "Skewness log_trans: 1.2167647056549014\n",
      "Skewness reciprocal trans: 0.04458824987085358\n",
      "Skewness cbrt_trans: 1.6500268056830625\n"
     ]
    }
   ],
   "source": [
    "# transforming the target column\n",
    "print('Skewness box_cox_trans:', stats.skew(stats.boxcox(df_target)[0]))\n",
    "print('Skewness sqrt_trans:', stats.skew(np.sqrt(df_target)))\n",
    "print('Skewness log_trans:', stats.skew(np.log(df_target)))\n",
    "print('Skewness reciprocal trans:', stats.skew(1/df_target))\n",
    "print('Skewness cbrt_trans:', stats.skew(np.cbrt(df_target)))"
   ]
  },
  {
   "cell_type": "code",
   "execution_count": 34,
   "id": "a2001af8",
   "metadata": {},
   "outputs": [],
   "source": [
    "# The best value of skewness is given by reciprocal transformation, thus we will use box_cox\n",
    "df_target = 1/df_target"
   ]
  },
  {
   "cell_type": "code",
   "execution_count": 35,
   "id": "644a4a04",
   "metadata": {},
   "outputs": [],
   "source": [
    "# split the train and test data\n",
    "X= df_ivs\n",
    "y= df_target\n",
    "X_train,X_test,y_train,y_test = train_test_split(X,y,test_size = 0.3, random_state=0)"
   ]
  },
  {
   "cell_type": "code",
   "execution_count": 36,
   "id": "51e5b587",
   "metadata": {},
   "outputs": [],
   "source": [
    "# split the categoric and numeric variables of train and test data\n",
    "X_train_cat = X_train[['PULocationID', 'DOLocationID', 'pickup_mins']]\n",
    "X_train_num = X_train.drop(['PULocationID', 'DOLocationID', 'pickup_mins'], axis=1)\n",
    "\n",
    "X_test_cat = X_test[['PULocationID', 'DOLocationID', 'pickup_mins']]\n",
    "X_test_num = X_test.drop(['PULocationID', 'DOLocationID', 'pickup_mins'], axis=1)"
   ]
  },
  {
   "cell_type": "code",
   "execution_count": 37,
   "id": "29eb1ecd",
   "metadata": {},
   "outputs": [],
   "source": [
    "# target encoding  of the chosen features\n",
    "cat_cols = X_train_cat.columns\n",
    "encoder = TargetEncoder(cols=cat_cols)\n",
    "\n",
    "X_train_enc = encoder.fit_transform(X_train_cat, y_train)\n",
    "X_test_enc = encoder.fit_transform(X_test_cat, y_test)"
   ]
  },
  {
   "cell_type": "code",
   "execution_count": 38,
   "id": "a113a7ec",
   "metadata": {},
   "outputs": [],
   "source": [
    "X_train_enc = pd.concat([X_train_enc, X_train_num], axis=1)\n",
    "X_test_enc = pd.concat([X_test_enc, X_test_num], axis=1)"
   ]
  },
  {
   "cell_type": "code",
   "execution_count": 39,
   "id": "c6ba489a",
   "metadata": {},
   "outputs": [
    {
     "data": {
      "text/html": [
       "<div>\n",
       "<style scoped>\n",
       "    .dataframe tbody tr th:only-of-type {\n",
       "        vertical-align: middle;\n",
       "    }\n",
       "\n",
       "    .dataframe tbody tr th {\n",
       "        vertical-align: top;\n",
       "    }\n",
       "\n",
       "    .dataframe thead th {\n",
       "        text-align: right;\n",
       "    }\n",
       "</style>\n",
       "<table border=\"1\" class=\"dataframe\">\n",
       "  <thead>\n",
       "    <tr style=\"text-align: right;\">\n",
       "      <th></th>\n",
       "      <th>vif_factor</th>\n",
       "      <th>vif_features</th>\n",
       "    </tr>\n",
       "  </thead>\n",
       "  <tbody>\n",
       "    <tr>\n",
       "      <th>24</th>\n",
       "      <td>3.830519</td>\n",
       "      <td>drop_hour_18</td>\n",
       "    </tr>\n",
       "    <tr>\n",
       "      <th>21</th>\n",
       "      <td>3.590841</td>\n",
       "      <td>pickup_hour_18</td>\n",
       "    </tr>\n",
       "    <tr>\n",
       "      <th>20</th>\n",
       "      <td>3.437534</td>\n",
       "      <td>pickup_hour_17</td>\n",
       "    </tr>\n",
       "    <tr>\n",
       "      <th>23</th>\n",
       "      <td>3.207883</td>\n",
       "      <td>drop_hour_17</td>\n",
       "    </tr>\n",
       "    <tr>\n",
       "      <th>4</th>\n",
       "      <td>3.136580</td>\n",
       "      <td>Airport_fee</td>\n",
       "    </tr>\n",
       "    <tr>\n",
       "      <th>6</th>\n",
       "      <td>3.100420</td>\n",
       "      <td>VendorID_2</td>\n",
       "    </tr>\n",
       "    <tr>\n",
       "      <th>2</th>\n",
       "      <td>2.999554</td>\n",
       "      <td>tolls_amount</td>\n",
       "    </tr>\n",
       "    <tr>\n",
       "      <th>0</th>\n",
       "      <td>2.549511</td>\n",
       "      <td>extra</td>\n",
       "    </tr>\n",
       "    <tr>\n",
       "      <th>5</th>\n",
       "      <td>2.260371</td>\n",
       "      <td>trip_duration_secs</td>\n",
       "    </tr>\n",
       "    <tr>\n",
       "      <th>1</th>\n",
       "      <td>2.240384</td>\n",
       "      <td>tip_amount</td>\n",
       "    </tr>\n",
       "    <tr>\n",
       "      <th>12</th>\n",
       "      <td>2.209206</td>\n",
       "      <td>RatecodeID_2.0</td>\n",
       "    </tr>\n",
       "    <tr>\n",
       "      <th>22</th>\n",
       "      <td>2.020693</td>\n",
       "      <td>pickup_hour_19</td>\n",
       "    </tr>\n",
       "    <tr>\n",
       "      <th>17</th>\n",
       "      <td>1.779274</td>\n",
       "      <td>payment_type_2</td>\n",
       "    </tr>\n",
       "    <tr>\n",
       "      <th>30</th>\n",
       "      <td>1.699551</td>\n",
       "      <td>pickup_day_Wednesday</td>\n",
       "    </tr>\n",
       "    <tr>\n",
       "      <th>29</th>\n",
       "      <td>1.654582</td>\n",
       "      <td>pickup_day_Tuesday</td>\n",
       "    </tr>\n",
       "    <tr>\n",
       "      <th>28</th>\n",
       "      <td>1.620720</td>\n",
       "      <td>pickup_day_Thursday</td>\n",
       "    </tr>\n",
       "    <tr>\n",
       "      <th>13</th>\n",
       "      <td>1.583322</td>\n",
       "      <td>RatecodeID_3.0</td>\n",
       "    </tr>\n",
       "    <tr>\n",
       "      <th>27</th>\n",
       "      <td>1.560344</td>\n",
       "      <td>pickup_day_Monday</td>\n",
       "    </tr>\n",
       "    <tr>\n",
       "      <th>3</th>\n",
       "      <td>1.492175</td>\n",
       "      <td>congestion_surcharge</td>\n",
       "    </tr>\n",
       "    <tr>\n",
       "      <th>25</th>\n",
       "      <td>1.272799</td>\n",
       "      <td>drop_hour_20</td>\n",
       "    </tr>\n",
       "    <tr>\n",
       "      <th>7</th>\n",
       "      <td>1.186058</td>\n",
       "      <td>passenger_count_2</td>\n",
       "    </tr>\n",
       "    <tr>\n",
       "      <th>8</th>\n",
       "      <td>1.059027</td>\n",
       "      <td>passenger_count_3</td>\n",
       "    </tr>\n",
       "    <tr>\n",
       "      <th>9</th>\n",
       "      <td>1.046638</td>\n",
       "      <td>passenger_count_4</td>\n",
       "    </tr>\n",
       "    <tr>\n",
       "      <th>19</th>\n",
       "      <td>1.026209</td>\n",
       "      <td>payment_type_4</td>\n",
       "    </tr>\n",
       "    <tr>\n",
       "      <th>10</th>\n",
       "      <td>1.020512</td>\n",
       "      <td>passenger_count_5</td>\n",
       "    </tr>\n",
       "    <tr>\n",
       "      <th>15</th>\n",
       "      <td>1.015485</td>\n",
       "      <td>RatecodeID_5.0</td>\n",
       "    </tr>\n",
       "    <tr>\n",
       "      <th>18</th>\n",
       "      <td>1.013322</td>\n",
       "      <td>payment_type_3</td>\n",
       "    </tr>\n",
       "    <tr>\n",
       "      <th>11</th>\n",
       "      <td>1.013138</td>\n",
       "      <td>passenger_count_6</td>\n",
       "    </tr>\n",
       "    <tr>\n",
       "      <th>16</th>\n",
       "      <td>1.013045</td>\n",
       "      <td>store_and_fwd_flag_Y</td>\n",
       "    </tr>\n",
       "    <tr>\n",
       "      <th>14</th>\n",
       "      <td>1.005421</td>\n",
       "      <td>RatecodeID_4.0</td>\n",
       "    </tr>\n",
       "    <tr>\n",
       "      <th>26</th>\n",
       "      <td>1.005120</td>\n",
       "      <td>drop_hour_21</td>\n",
       "    </tr>\n",
       "  </tbody>\n",
       "</table>\n",
       "</div>"
      ],
      "text/plain": [
       "    vif_factor          vif_features\n",
       "24    3.830519          drop_hour_18\n",
       "21    3.590841        pickup_hour_18\n",
       "20    3.437534        pickup_hour_17\n",
       "23    3.207883          drop_hour_17\n",
       "4     3.136580           Airport_fee\n",
       "6     3.100420            VendorID_2\n",
       "2     2.999554          tolls_amount\n",
       "0     2.549511                 extra\n",
       "5     2.260371    trip_duration_secs\n",
       "1     2.240384            tip_amount\n",
       "12    2.209206        RatecodeID_2.0\n",
       "22    2.020693        pickup_hour_19\n",
       "17    1.779274        payment_type_2\n",
       "30    1.699551  pickup_day_Wednesday\n",
       "29    1.654582    pickup_day_Tuesday\n",
       "28    1.620720   pickup_day_Thursday\n",
       "13    1.583322        RatecodeID_3.0\n",
       "27    1.560344     pickup_day_Monday\n",
       "3     1.492175  congestion_surcharge\n",
       "25    1.272799          drop_hour_20\n",
       "7     1.186058     passenger_count_2\n",
       "8     1.059027     passenger_count_3\n",
       "9     1.046638     passenger_count_4\n",
       "19    1.026209        payment_type_4\n",
       "10    1.020512     passenger_count_5\n",
       "15    1.015485        RatecodeID_5.0\n",
       "18    1.013322        payment_type_3\n",
       "11    1.013138     passenger_count_6\n",
       "16    1.013045  store_and_fwd_flag_Y\n",
       "14    1.005421        RatecodeID_4.0\n",
       "26    1.005120          drop_hour_21"
      ]
     },
     "execution_count": 39,
     "metadata": {},
     "output_type": "execute_result"
    }
   ],
   "source": [
    "# variance inflation factor check for multicollinearity\n",
    "\n",
    "X_train_enc_vif = X_train_enc.copy()\n",
    "while True:\n",
    "    vif_factor = [variance_inflation_factor(X_train_enc_vif.values, i) for i in range(len(X_train_enc_vif.columns))]\n",
    "    vif_features = X_train_enc_vif.columns\n",
    "    vif = pd.DataFrame({'vif_factor': vif_factor, 'vif_features':vif_features})\n",
    "    if vif['vif_factor'].max() > 5:\n",
    "        X_train_enc_vif.drop(vif['vif_features'][vif['vif_factor'] == vif['vif_factor'].max()], axis=1, inplace=True)\n",
    "        \n",
    "    else:\n",
    "        break\n",
    "\n",
    "vif.sort_values(by='vif_factor',ascending=False)"
   ]
  },
  {
   "cell_type": "code",
   "execution_count": 40,
   "id": "3fcae8bd",
   "metadata": {},
   "outputs": [
    {
     "data": {
      "text/plain": [
       "(92410, 31)"
      ]
     },
     "execution_count": 40,
     "metadata": {},
     "output_type": "execute_result"
    }
   ],
   "source": [
    "X_train_enc_vif.shape"
   ]
  },
  {
   "cell_type": "code",
   "execution_count": 41,
   "id": "5c60f346",
   "metadata": {},
   "outputs": [],
   "source": [
    "X_test_enc_vif = X_test_enc[X_train_enc_vif.columns]"
   ]
  },
  {
   "cell_type": "code",
   "execution_count": 42,
   "id": "20b9963b",
   "metadata": {},
   "outputs": [],
   "source": [
    "# adding constant to the train and test data\n",
    "X_train_ = sm.add_constant(X_train_enc_vif)\n",
    "X_test_ = sm.add_constant(X_test_enc[X_train_enc_vif.columns])"
   ]
  },
  {
   "cell_type": "code",
   "execution_count": 43,
   "id": "819cc6df",
   "metadata": {},
   "outputs": [
    {
     "name": "stdout",
     "output_type": "stream",
     "text": [
      "                            OLS Regression Results                            \n",
      "==============================================================================\n",
      "Dep. Variable:           total_amount   R-squared:                       0.761\n",
      "Model:                            OLS   Adj. R-squared:                  0.761\n",
      "Method:                 Least Squares   F-statistic:                     9507.\n",
      "Date:                Sun, 15 Oct 2023   Prob (F-statistic):               0.00\n",
      "Time:                        16:26:52   Log-Likelihood:             3.0666e+05\n",
      "No. Observations:               92410   AIC:                        -6.133e+05\n",
      "Df Residuals:                   92378   BIC:                        -6.130e+05\n",
      "Df Model:                          31                                         \n",
      "Covariance Type:            nonrobust                                         \n",
      "========================================================================================\n",
      "                           coef    std err          t      P>|t|      [0.025      0.975]\n",
      "----------------------------------------------------------------------------------------\n",
      "const                    0.0445      0.000    423.833      0.000       0.044       0.045\n",
      "extra                   -0.0009   4.59e-05    -20.436      0.000      -0.001      -0.001\n",
      "tip_amount              -0.0024   4.31e-05    -55.443      0.000      -0.002      -0.002\n",
      "tolls_amount            -0.0003   5.01e-05     -6.197      0.000      -0.000      -0.000\n",
      "congestion_surcharge    -0.0016   3.51e-05    -44.612      0.000      -0.002      -0.001\n",
      "Airport_fee             -0.0020    5.1e-05    -39.778      0.000      -0.002      -0.002\n",
      "trip_duration_secs      -0.0147   4.33e-05   -337.985      0.000      -0.015      -0.015\n",
      "VendorID_2              -0.0013   6.66e-05    -20.160      0.000      -0.001      -0.001\n",
      "passenger_count_2       -0.0003   8.23e-05     -3.974      0.000      -0.000      -0.000\n",
      "passenger_count_3       -0.0003      0.000     -2.311      0.021      -0.001   -4.89e-05\n",
      "passenger_count_4       -0.0014      0.000     -7.930      0.000      -0.002      -0.001\n",
      "passenger_count_5       -0.0003      0.000     -1.063      0.288      -0.001       0.000\n",
      "passenger_count_6        0.0002      0.000      0.568      0.570      -0.000       0.001\n",
      "RatecodeID_2.0           0.0196      0.000     94.173      0.000       0.019       0.020\n",
      "RatecodeID_3.0           0.0055      0.001      7.039      0.000       0.004       0.007\n",
      "RatecodeID_4.0           0.0033      0.002      1.368      0.171      -0.001       0.008\n",
      "RatecodeID_5.0          -0.0144      0.001    -11.528      0.000      -0.017      -0.012\n",
      "store_and_fwd_flag_Y    -0.0006      0.000     -1.445      0.149      -0.001       0.000\n",
      "payment_type_2           0.0057   9.32e-05     60.954      0.000       0.005       0.006\n",
      "payment_type_3           0.0095      0.001     17.532      0.000       0.008       0.011\n",
      "payment_type_4           0.0072      0.000     18.659      0.000       0.006       0.008\n",
      "pickup_hour_17          -0.0021      0.000    -19.558      0.000      -0.002      -0.002\n",
      "pickup_hour_18          -0.0035      0.000    -32.567      0.000      -0.004      -0.003\n",
      "pickup_hour_19          -0.0015   9.63e-05    -16.014      0.000      -0.002      -0.001\n",
      "drop_hour_17             0.0013      0.000     11.932      0.000       0.001       0.001\n",
      "drop_hour_18             0.0025      0.000     23.322      0.000       0.002       0.003\n",
      "drop_hour_20            -0.0043      0.000    -27.788      0.000      -0.005      -0.004\n",
      "drop_hour_21             0.0511      0.005     10.071      0.000       0.041       0.061\n",
      "pickup_day_Monday        0.0005   9.46e-05      5.084      0.000       0.000       0.001\n",
      "pickup_day_Thursday      0.0001   9.25e-05      1.408      0.159   -5.11e-05       0.000\n",
      "pickup_day_Tuesday   -7.382e-05   9.14e-05     -0.808      0.419      -0.000       0.000\n",
      "pickup_day_Wednesday     0.0021    9.1e-05     23.078      0.000       0.002       0.002\n",
      "==============================================================================\n",
      "Omnibus:                    25788.483   Durbin-Watson:                   1.999\n",
      "Prob(Omnibus):                  0.000   Jarque-Bera (JB):           204181.730\n",
      "Skew:                           1.125   Prob(JB):                         0.00\n",
      "Kurtosis:                       9.926   Cond. No.                         317.\n",
      "==============================================================================\n",
      "\n",
      "Notes:\n",
      "[1] Standard Errors assume that the covariance matrix of the errors is correctly specified.\n"
     ]
    }
   ],
   "source": [
    "# base lR model summary\n",
    "model2 = sm.OLS(y_train, X_train_).fit()\n",
    "print(model2.summary())"
   ]
  },
  {
   "cell_type": "code",
   "execution_count": 44,
   "id": "a4a14f47",
   "metadata": {},
   "outputs": [
    {
     "name": "stdout",
     "output_type": "stream",
     "text": [
      "The insignificant columns are:  Index(['passenger_count_5', 'passenger_count_6', 'RatecodeID_4.0',\n",
      "       'store_and_fwd_flag_Y', 'pickup_day_Thursday', 'pickup_day_Tuesday'],\n",
      "      dtype='object')\n"
     ]
    }
   ],
   "source": [
    "# There are insignificant columns present in the model\n",
    "print('The insignificant columns are: ', model2.pvalues[model2.pvalues>0.05].index)"
   ]
  },
  {
   "cell_type": "code",
   "execution_count": 45,
   "id": "96c93a58",
   "metadata": {},
   "outputs": [],
   "source": [
    "# model after removing the insignificant columns ##\n",
    "X_train_enc_vif = X_train_enc_vif.drop(['passenger_count_5', 'passenger_count_6', 'RatecodeID_4.0', 'store_and_fwd_flag_Y', \n",
    "                                        'pickup_day_Thursday', 'pickup_day_Tuesday'], axis=1)\n",
    "X_test_enc_vif = X_test_enc_vif.drop(['passenger_count_5', 'passenger_count_6', 'RatecodeID_4.0', 'store_and_fwd_flag_Y', \n",
    "                                        'pickup_day_Thursday', 'pickup_day_Tuesday'], axis=1)"
   ]
  },
  {
   "cell_type": "code",
   "execution_count": 46,
   "id": "143498b9",
   "metadata": {},
   "outputs": [],
   "source": [
    "# adding the constant to train and test data\n",
    "X_train_ = sm.add_constant(X_train_enc_vif)\n",
    "X_test_ = sm.add_constant(X_test_enc_vif)"
   ]
  },
  {
   "cell_type": "code",
   "execution_count": 47,
   "id": "91a418e6",
   "metadata": {},
   "outputs": [
    {
     "name": "stdout",
     "output_type": "stream",
     "text": [
      "                            OLS Regression Results                            \n",
      "==============================================================================\n",
      "Dep. Variable:           total_amount   R-squared:                       0.761\n",
      "Model:                            OLS   Adj. R-squared:                  0.761\n",
      "Method:                 Least Squares   F-statistic:                 1.179e+04\n",
      "Date:                Sun, 15 Oct 2023   Prob (F-statistic):               0.00\n",
      "Time:                        16:27:11   Log-Likelihood:             3.0666e+05\n",
      "No. Observations:               92410   AIC:                        -6.133e+05\n",
      "Df Residuals:                   92384   BIC:                        -6.130e+05\n",
      "Df Model:                          25                                         \n",
      "Covariance Type:            nonrobust                                         \n",
      "========================================================================================\n",
      "                           coef    std err          t      P>|t|      [0.025      0.975]\n",
      "----------------------------------------------------------------------------------------\n",
      "const                    0.0445    8.9e-05    500.423      0.000       0.044       0.045\n",
      "extra                   -0.0009   4.58e-05    -20.482      0.000      -0.001      -0.001\n",
      "tip_amount              -0.0024   4.31e-05    -55.432      0.000      -0.002      -0.002\n",
      "tolls_amount            -0.0003      5e-05     -6.135      0.000      -0.000      -0.000\n",
      "congestion_surcharge    -0.0016   3.51e-05    -44.631      0.000      -0.002      -0.001\n",
      "Airport_fee             -0.0020    5.1e-05    -39.781      0.000      -0.002      -0.002\n",
      "trip_duration_secs      -0.0146   4.33e-05   -338.026      0.000      -0.015      -0.015\n",
      "VendorID_2              -0.0013    6.6e-05    -20.215      0.000      -0.001      -0.001\n",
      "passenger_count_2       -0.0003   8.21e-05     -3.960      0.000      -0.000      -0.000\n",
      "passenger_count_3       -0.0003      0.000     -2.286      0.022      -0.001   -4.54e-05\n",
      "passenger_count_4       -0.0014      0.000     -7.916      0.000      -0.002      -0.001\n",
      "RatecodeID_2.0           0.0196      0.000     94.178      0.000       0.019       0.020\n",
      "RatecodeID_3.0           0.0055      0.001      6.994      0.000       0.004       0.007\n",
      "RatecodeID_5.0          -0.0144      0.001    -11.529      0.000      -0.017      -0.012\n",
      "payment_type_2           0.0057   9.32e-05     60.995      0.000       0.006       0.006\n",
      "payment_type_3           0.0095      0.001     17.532      0.000       0.008       0.011\n",
      "payment_type_4           0.0072      0.000     18.675      0.000       0.006       0.008\n",
      "pickup_hour_17          -0.0021      0.000    -19.565      0.000      -0.002      -0.002\n",
      "pickup_hour_18          -0.0035      0.000    -32.578      0.000      -0.004      -0.003\n",
      "pickup_hour_19          -0.0015   9.63e-05    -16.024      0.000      -0.002      -0.001\n",
      "drop_hour_17             0.0013      0.000     11.946      0.000       0.001       0.001\n",
      "drop_hour_18             0.0025      0.000     23.325      0.000       0.002       0.003\n",
      "drop_hour_20            -0.0043      0.000    -27.785      0.000      -0.005      -0.004\n",
      "drop_hour_21             0.0511      0.005     10.068      0.000       0.041       0.061\n",
      "pickup_day_Monday        0.0005   7.72e-05      6.009      0.000       0.000       0.001\n",
      "pickup_day_Wednesday     0.0021   7.28e-05     28.616      0.000       0.002       0.002\n",
      "==============================================================================\n",
      "Omnibus:                    25790.076   Durbin-Watson:                   1.998\n",
      "Prob(Omnibus):                  0.000   Jarque-Bera (JB):           204100.985\n",
      "Skew:                           1.125   Prob(JB):                         0.00\n",
      "Kurtosis:                       9.924   Cond. No.                         317.\n",
      "==============================================================================\n",
      "\n",
      "Notes:\n",
      "[1] Standard Errors assume that the covariance matrix of the errors is correctly specified.\n"
     ]
    }
   ],
   "source": [
    "# base model 2 summary after removing the insignificant features based on p value.\n",
    "model2 = sm.OLS(y_train, X_train_).fit()\n",
    "print(model2.summary())"
   ]
  },
  {
   "cell_type": "code",
   "execution_count": null,
   "id": "847b5a2d",
   "metadata": {},
   "outputs": [],
   "source": [
    "## There is still moderate multicollinearity present, and JB < 0.05 => residuals are not normally distributed. "
   ]
  },
  {
   "cell_type": "code",
   "execution_count": null,
   "id": "09a49ac1",
   "metadata": {},
   "outputs": [],
   "source": [
    "# Since the model assumptions are not satisfied, lets try again with feature selection methods"
   ]
  },
  {
   "cell_type": "markdown",
   "id": "e0cb566e",
   "metadata": {},
   "source": [
    "<b>LR Variant 3</b></br>\n",
    "Using RFE and SFS feature selection methods"
   ]
  },
  {
   "cell_type": "markdown",
   "id": "4595b763",
   "metadata": {},
   "source": [
    "<b>Recursive Feature Elimination Method</b>"
   ]
  },
  {
   "cell_type": "code",
   "execution_count": 48,
   "id": "b51cde46",
   "metadata": {},
   "outputs": [
    {
     "name": "stdout",
     "output_type": "stream",
     "text": [
      "Fitting estimator with 37 features.\n",
      "Fitting estimator with 36 features.\n",
      "Fitting estimator with 35 features.\n",
      "Fitting estimator with 34 features.\n",
      "Fitting estimator with 33 features.\n",
      "Fitting estimator with 32 features.\n",
      "Fitting estimator with 31 features.\n",
      "Fitting estimator with 30 features.\n",
      "Fitting estimator with 29 features.\n",
      "Fitting estimator with 28 features.\n",
      "Fitting estimator with 27 features.\n",
      "Fitting estimator with 26 features.\n",
      "Fitting estimator with 25 features.\n",
      "Fitting estimator with 24 features.\n",
      "Fitting estimator with 23 features.\n",
      "Fitting estimator with 22 features.\n",
      "Fitting estimator with 21 features.\n",
      "Fitting estimator with 20 features.\n",
      "Fitting estimator with 19 features.\n"
     ]
    },
    {
     "data": {
      "text/plain": [
       "RFE(estimator=LinearRegression(), verbose=1)"
      ]
     },
     "execution_count": 48,
     "metadata": {},
     "output_type": "execute_result"
    }
   ],
   "source": [
    "# recursive feature elimination \n",
    "LR = LinearRegression() # linear regression\n",
    "\n",
    "rfe = RFE(estimator=LR, verbose=1) # RFE Model\n",
    "\n",
    "rfe.fit(X_train_enc, y_train) # fitting the train data"
   ]
  },
  {
   "cell_type": "code",
   "execution_count": 49,
   "id": "d4acb2d2",
   "metadata": {},
   "outputs": [
    {
     "data": {
      "text/plain": [
       "Index(['PULocationID', 'DOLocationID', 'pickup_mins', 'trip_distance',\n",
       "       'fare_amount', 'tip_amount', 'congestion_surcharge',\n",
       "       'trip_duration_secs', 'RatecodeID_2.0', 'RatecodeID_3.0',\n",
       "       'RatecodeID_4.0', 'RatecodeID_5.0', 'payment_type_2', 'payment_type_3',\n",
       "       'payment_type_4', 'drop_hour_20', 'drop_hour_21',\n",
       "       'pickup_day_Wednesday'],\n",
       "      dtype='object')"
      ]
     },
     "execution_count": 49,
     "metadata": {},
     "output_type": "execute_result"
    }
   ],
   "source": [
    "# selecting the significant features based on ranking\n",
    "feat_index = pd.Series(data=rfe.ranking_, index= X_train_enc.columns)\n",
    "\n",
    "signi_feat = feat_index[feat_index==1].index\n",
    "\n",
    "signi_feat"
   ]
  },
  {
   "cell_type": "code",
   "execution_count": 50,
   "id": "1d89c003",
   "metadata": {},
   "outputs": [
    {
     "name": "stdout",
     "output_type": "stream",
     "text": [
      "                            OLS Regression Results                            \n",
      "==============================================================================\n",
      "Dep. Variable:           total_amount   R-squared:                       0.804\n",
      "Model:                            OLS   Adj. R-squared:                  0.804\n",
      "Method:                 Least Squares   F-statistic:                 2.101e+04\n",
      "Date:                Sun, 15 Oct 2023   Prob (F-statistic):               0.00\n",
      "Time:                        16:27:36   Log-Likelihood:             3.1568e+05\n",
      "No. Observations:               92410   AIC:                        -6.313e+05\n",
      "Df Residuals:                   92391   BIC:                        -6.311e+05\n",
      "Df Model:                          18                                         \n",
      "Covariance Type:            nonrobust                                         \n",
      "========================================================================================\n",
      "                           coef    std err          t      P>|t|      [0.025      0.975]\n",
      "----------------------------------------------------------------------------------------\n",
      "const                    0.0265      0.003     10.275      0.000       0.021       0.032\n",
      "PULocationID             0.1563      0.005     34.573      0.000       0.147       0.165\n",
      "DOLocationID            -0.0150      0.005     -3.157      0.002      -0.024      -0.006\n",
      "pickup_mins              0.2104      0.057      3.686      0.000       0.099       0.322\n",
      "trip_distance            0.0072      0.000     54.848      0.000       0.007       0.007\n",
      "fare_amount             -0.0195      0.000   -122.923      0.000      -0.020      -0.019\n",
      "tip_amount              -0.0014   3.93e-05    -35.074      0.000      -0.001      -0.001\n",
      "congestion_surcharge    -0.0022   3.18e-05    -70.021      0.000      -0.002      -0.002\n",
      "trip_duration_secs      -0.0053   7.41e-05    -71.422      0.000      -0.005      -0.005\n",
      "RatecodeID_2.0           0.0252      0.000    118.080      0.000       0.025       0.026\n",
      "RatecodeID_3.0           0.0412      0.001     63.036      0.000       0.040       0.042\n",
      "RatecodeID_4.0           0.0447      0.002     20.080      0.000       0.040       0.049\n",
      "RatecodeID_5.0           0.0196      0.001     16.935      0.000       0.017       0.022\n",
      "payment_type_2           0.0068   8.45e-05     79.969      0.000       0.007       0.007\n",
      "payment_type_3           0.0108      0.000     22.087      0.000       0.010       0.012\n",
      "payment_type_4           0.0085      0.000     24.169      0.000       0.008       0.009\n",
      "drop_hour_20            -0.0030      0.000    -23.067      0.000      -0.003      -0.003\n",
      "drop_hour_21             0.0248      0.005      5.379      0.000       0.016       0.034\n",
      "pickup_day_Wednesday     0.0013    6.5e-05     19.652      0.000       0.001       0.001\n",
      "==============================================================================\n",
      "Omnibus:                    34224.874   Durbin-Watson:                   1.991\n",
      "Prob(Omnibus):                  0.000   Jarque-Bera (JB):           265511.615\n",
      "Skew:                           1.580   Prob(JB):                         0.00\n",
      "Kurtosis:                      10.679   Cond. No.                     4.00e+03\n",
      "==============================================================================\n",
      "\n",
      "Notes:\n",
      "[1] Standard Errors assume that the covariance matrix of the errors is correctly specified.\n",
      "[2] The condition number is large,  4e+03. This might indicate that there are\n",
      "strong multicollinearity or other numerical problems.\n"
     ]
    }
   ],
   "source": [
    "# model summary with selected features based on RFE method\n",
    "X_train_ = sm.add_constant(X_train_enc[signi_feat])\n",
    "X_test_ = sm.add_constant(X_test_enc[signi_feat])\n",
    "\n",
    "model_rfe = sm.OLS(y_train, X_train_).fit()\n",
    "print(model_rfe.summary())"
   ]
  },
  {
   "cell_type": "code",
   "execution_count": null,
   "id": "c410791d",
   "metadata": {},
   "outputs": [],
   "source": [
    "# The accuracy has improved but the condition number is high and\n",
    "# probability of JB < 0.05 => residuals aren't normally distributed"
   ]
  },
  {
   "cell_type": "markdown",
   "id": "754ab7b1",
   "metadata": {},
   "source": [
    "<b>Forward Feature Selection Method</b>"
   ]
  },
  {
   "cell_type": "code",
   "execution_count": 51,
   "id": "8353f0fb",
   "metadata": {},
   "outputs": [
    {
     "name": "stderr",
     "output_type": "stream",
     "text": [
      "Features: 37/37"
     ]
    }
   ],
   "source": [
    "#  forward sfs method\n",
    "fs = sfs(estimator=LR, k_features='best', verbose=1)\n",
    "sfs_forward = fs.fit(X_train_enc, y_train)"
   ]
  },
  {
   "cell_type": "code",
   "execution_count": 52,
   "id": "0e8a426b",
   "metadata": {},
   "outputs": [
    {
     "name": "stdout",
     "output_type": "stream",
     "text": [
      "('PULocationID', 'DOLocationID', 'pickup_mins', 'trip_distance', 'fare_amount', 'extra', 'tip_amount', 'tolls_amount', 'congestion_surcharge', 'Airport_fee', 'trip_duration_secs', 'VendorID_2', 'passenger_count_2', 'passenger_count_3', 'passenger_count_4', 'passenger_count_5', 'RatecodeID_2.0', 'RatecodeID_3.0', 'RatecodeID_4.0', 'RatecodeID_5.0', 'store_and_fwd_flag_Y', 'payment_type_2', 'payment_type_3', 'payment_type_4', 'pickup_hour_17', 'pickup_hour_18', 'pickup_hour_19', 'drop_hour_17', 'drop_hour_18', 'drop_hour_19', 'drop_hour_20', 'drop_hour_21', 'pickup_day_Monday', 'pickup_day_Tuesday', 'pickup_day_Wednesday')\n",
      "\n",
      "R-Squared:  0.80752822826428\n"
     ]
    }
   ],
   "source": [
    "# printing the selected features\n",
    "print(sfs_forward.k_feature_names_)\n",
    "\n",
    "print('\\nR-Squared: ', sfs_forward.k_score_)"
   ]
  },
  {
   "cell_type": "code",
   "execution_count": 53,
   "id": "6319057a",
   "metadata": {},
   "outputs": [
    {
     "name": "stdout",
     "output_type": "stream",
     "text": [
      "                            OLS Regression Results                            \n",
      "==============================================================================\n",
      "Dep. Variable:           total_amount   R-squared:                       0.808\n",
      "Model:                            OLS   Adj. R-squared:                  0.808\n",
      "Method:                 Least Squares   F-statistic:                 1.112e+04\n",
      "Date:                Sun, 15 Oct 2023   Prob (F-statistic):               0.00\n",
      "Time:                        16:30:01   Log-Likelihood:             3.1675e+05\n",
      "No. Observations:               92410   AIC:                        -6.334e+05\n",
      "Df Residuals:                   92374   BIC:                        -6.331e+05\n",
      "Df Model:                          35                                         \n",
      "Covariance Type:            nonrobust                                         \n",
      "========================================================================================\n",
      "                           coef    std err          t      P>|t|      [0.025      0.975]\n",
      "----------------------------------------------------------------------------------------\n",
      "const                    0.0306      0.003     11.460      0.000       0.025       0.036\n",
      "PULocationID             0.2277      0.007     34.150      0.000       0.215       0.241\n",
      "DOLocationID            -0.0672      0.005    -13.484      0.000      -0.077      -0.057\n",
      "pickup_mins              0.1225      0.059      2.073      0.038       0.007       0.238\n",
      "trip_distance            0.0066      0.000     49.179      0.000       0.006       0.007\n",
      "fare_amount             -0.0193      0.000   -122.508      0.000      -0.020      -0.019\n",
      "extra                   -0.0013   4.26e-05    -31.089      0.000      -0.001      -0.001\n",
      "tip_amount              -0.0013   3.94e-05    -34.073      0.000      -0.001      -0.001\n",
      "tolls_amount             0.0011   4.71e-05     24.110      0.000       0.001       0.001\n",
      "congestion_surcharge    -0.0020   3.43e-05    -59.442      0.000      -0.002      -0.002\n",
      "Airport_fee              0.0016   7.51e-05     20.797      0.000       0.001       0.002\n",
      "trip_duration_secs      -0.0055   7.74e-05    -71.606      0.000      -0.006      -0.005\n",
      "VendorID_2              -0.0006   5.99e-05     -9.998      0.000      -0.001      -0.000\n",
      "passenger_count_2       -0.0002   7.37e-05     -2.729      0.006      -0.000   -5.67e-05\n",
      "passenger_count_3       -0.0002      0.000     -1.791      0.073      -0.000    2.11e-05\n",
      "passenger_count_4       -0.0009      0.000     -6.028      0.000      -0.001      -0.001\n",
      "passenger_count_5       -0.0004      0.000     -1.620      0.105      -0.001    7.86e-05\n",
      "RatecodeID_2.0           0.0245      0.000    114.432      0.000       0.024       0.025\n",
      "RatecodeID_3.0           0.0318      0.001     42.898      0.000       0.030       0.033\n",
      "RatecodeID_4.0           0.0406      0.002     18.406      0.000       0.036       0.045\n",
      "RatecodeID_5.0           0.0165      0.001     14.388      0.000       0.014       0.019\n",
      "store_and_fwd_flag_Y    -0.0006      0.000     -1.573      0.116      -0.001       0.000\n",
      "payment_type_2           0.0067   8.39e-05     79.798      0.000       0.007       0.007\n",
      "payment_type_3           0.0107      0.000     22.100      0.000       0.010       0.012\n",
      "payment_type_4           0.0083      0.000     24.064      0.000       0.008       0.009\n",
      "pickup_hour_17          -0.0017      0.000    -13.566      0.000      -0.002      -0.001\n",
      "pickup_hour_18          -0.0030      0.000    -16.828      0.000      -0.003      -0.003\n",
      "pickup_hour_19          -0.0019      0.000     -8.041      0.000      -0.002      -0.001\n",
      "drop_hour_17             0.0010      0.000      8.139      0.000       0.001       0.001\n",
      "drop_hour_18             0.0022      0.000     12.257      0.000       0.002       0.003\n",
      "drop_hour_19             0.0010      0.000      4.151      0.000       0.001       0.001\n",
      "drop_hour_20            -0.0016      0.000     -5.635      0.000      -0.002      -0.001\n",
      "drop_hour_21             0.0305      0.005      6.679      0.000       0.022       0.039\n",
      "pickup_day_Monday        0.0004   7.35e-05      5.183      0.000       0.000       0.001\n",
      "pickup_day_Tuesday   -8.837e-05   7.02e-05     -1.259      0.208      -0.000    4.92e-05\n",
      "pickup_day_Wednesday     0.0013   7.08e-05     18.859      0.000       0.001       0.001\n",
      "==============================================================================\n",
      "Omnibus:                    33513.020   Durbin-Watson:                   1.992\n",
      "Prob(Omnibus):                  0.000   Jarque-Bera (JB):           255785.060\n",
      "Skew:                           1.546   Prob(JB):                         0.00\n",
      "Kurtosis:                      10.541   Cond. No.                     5.09e+03\n",
      "==============================================================================\n",
      "\n",
      "Notes:\n",
      "[1] Standard Errors assume that the covariance matrix of the errors is correctly specified.\n",
      "[2] The condition number is large, 5.09e+03. This might indicate that there are\n",
      "strong multicollinearity or other numerical problems.\n"
     ]
    }
   ],
   "source": [
    "# model summary with selected features based on RFE method\n",
    "X_train_ = sm.add_constant(X_train_enc[list(sfs_forward.k_feature_names_)])\n",
    "X_test_ = sm.add_constant(X_test_enc[list(sfs_forward.k_feature_names_)])\n",
    "\n",
    "model_for = sm.OLS(y_train, X_train_).fit()\n",
    "print(model_for.summary())"
   ]
  },
  {
   "cell_type": "code",
   "execution_count": null,
   "id": "c6887798",
   "metadata": {},
   "outputs": [],
   "source": [
    "# Similar to that of rfe high multicollinearity and residuals are not normally distributed"
   ]
  },
  {
   "cell_type": "code",
   "execution_count": null,
   "id": "ed8dd0a3",
   "metadata": {},
   "outputs": [],
   "source": [
    "# Since the assumptions did not meet, lets try regularisation methods."
   ]
  },
  {
   "cell_type": "markdown",
   "id": "11de2e40",
   "metadata": {},
   "source": [
    "<b>LR Variant 4</b></br>\n",
    "Using Lasso Regularisation method - to eliminate insignificant features and to reduce the impact of multicollinearity."
   ]
  },
  {
   "cell_type": "code",
   "execution_count": 54,
   "id": "d7e0c050",
   "metadata": {},
   "outputs": [],
   "source": [
    "# Lasso model to find the coefficients greater than 0\n",
    "lasso = Lasso(alpha=0.01)\n",
    "lasso_model = lasso.fit(X_train_enc, y_train)"
   ]
  },
  {
   "cell_type": "code",
   "execution_count": 55,
   "id": "29657a6a",
   "metadata": {},
   "outputs": [
    {
     "data": {
      "text/html": [
       "<div>\n",
       "<style scoped>\n",
       "    .dataframe tbody tr th:only-of-type {\n",
       "        vertical-align: middle;\n",
       "    }\n",
       "\n",
       "    .dataframe tbody tr th {\n",
       "        vertical-align: top;\n",
       "    }\n",
       "\n",
       "    .dataframe thead th {\n",
       "        text-align: right;\n",
       "    }\n",
       "</style>\n",
       "<table border=\"1\" class=\"dataframe\">\n",
       "  <thead>\n",
       "    <tr style=\"text-align: right;\">\n",
       "      <th></th>\n",
       "      <th>0</th>\n",
       "    </tr>\n",
       "  </thead>\n",
       "  <tbody>\n",
       "    <tr>\n",
       "      <th>PULocationID</th>\n",
       "      <td>0.000000</td>\n",
       "    </tr>\n",
       "    <tr>\n",
       "      <th>DOLocationID</th>\n",
       "      <td>0.000000</td>\n",
       "    </tr>\n",
       "    <tr>\n",
       "      <th>pickup_mins</th>\n",
       "      <td>0.000000</td>\n",
       "    </tr>\n",
       "    <tr>\n",
       "      <th>trip_distance</th>\n",
       "      <td>-0.000000</td>\n",
       "    </tr>\n",
       "    <tr>\n",
       "      <th>fare_amount</th>\n",
       "      <td>-0.001687</td>\n",
       "    </tr>\n",
       "    <tr>\n",
       "      <th>extra</th>\n",
       "      <td>-0.000000</td>\n",
       "    </tr>\n",
       "    <tr>\n",
       "      <th>tip_amount</th>\n",
       "      <td>-0.000000</td>\n",
       "    </tr>\n",
       "    <tr>\n",
       "      <th>tolls_amount</th>\n",
       "      <td>-0.000000</td>\n",
       "    </tr>\n",
       "    <tr>\n",
       "      <th>congestion_surcharge</th>\n",
       "      <td>0.000000</td>\n",
       "    </tr>\n",
       "    <tr>\n",
       "      <th>Airport_fee</th>\n",
       "      <td>-0.000000</td>\n",
       "    </tr>\n",
       "    <tr>\n",
       "      <th>trip_duration_secs</th>\n",
       "      <td>-0.003171</td>\n",
       "    </tr>\n",
       "    <tr>\n",
       "      <th>VendorID_2</th>\n",
       "      <td>-0.000000</td>\n",
       "    </tr>\n",
       "    <tr>\n",
       "      <th>passenger_count_2</th>\n",
       "      <td>-0.000000</td>\n",
       "    </tr>\n",
       "    <tr>\n",
       "      <th>passenger_count_3</th>\n",
       "      <td>-0.000000</td>\n",
       "    </tr>\n",
       "    <tr>\n",
       "      <th>passenger_count_4</th>\n",
       "      <td>-0.000000</td>\n",
       "    </tr>\n",
       "    <tr>\n",
       "      <th>passenger_count_5</th>\n",
       "      <td>-0.000000</td>\n",
       "    </tr>\n",
       "    <tr>\n",
       "      <th>passenger_count_6</th>\n",
       "      <td>0.000000</td>\n",
       "    </tr>\n",
       "    <tr>\n",
       "      <th>RatecodeID_2.0</th>\n",
       "      <td>-0.000000</td>\n",
       "    </tr>\n",
       "    <tr>\n",
       "      <th>RatecodeID_3.0</th>\n",
       "      <td>-0.000000</td>\n",
       "    </tr>\n",
       "    <tr>\n",
       "      <th>RatecodeID_4.0</th>\n",
       "      <td>-0.000000</td>\n",
       "    </tr>\n",
       "    <tr>\n",
       "      <th>RatecodeID_5.0</th>\n",
       "      <td>-0.000000</td>\n",
       "    </tr>\n",
       "    <tr>\n",
       "      <th>store_and_fwd_flag_Y</th>\n",
       "      <td>0.000000</td>\n",
       "    </tr>\n",
       "    <tr>\n",
       "      <th>payment_type_2</th>\n",
       "      <td>0.000000</td>\n",
       "    </tr>\n",
       "    <tr>\n",
       "      <th>payment_type_3</th>\n",
       "      <td>0.000000</td>\n",
       "    </tr>\n",
       "    <tr>\n",
       "      <th>payment_type_4</th>\n",
       "      <td>0.000000</td>\n",
       "    </tr>\n",
       "    <tr>\n",
       "      <th>pickup_hour_17</th>\n",
       "      <td>-0.000000</td>\n",
       "    </tr>\n",
       "    <tr>\n",
       "      <th>pickup_hour_18</th>\n",
       "      <td>0.000000</td>\n",
       "    </tr>\n",
       "    <tr>\n",
       "      <th>pickup_hour_19</th>\n",
       "      <td>0.000000</td>\n",
       "    </tr>\n",
       "    <tr>\n",
       "      <th>drop_hour_17</th>\n",
       "      <td>-0.000000</td>\n",
       "    </tr>\n",
       "    <tr>\n",
       "      <th>drop_hour_18</th>\n",
       "      <td>-0.000000</td>\n",
       "    </tr>\n",
       "    <tr>\n",
       "      <th>drop_hour_19</th>\n",
       "      <td>0.000000</td>\n",
       "    </tr>\n",
       "    <tr>\n",
       "      <th>drop_hour_20</th>\n",
       "      <td>-0.000000</td>\n",
       "    </tr>\n",
       "    <tr>\n",
       "      <th>drop_hour_21</th>\n",
       "      <td>-0.000000</td>\n",
       "    </tr>\n",
       "    <tr>\n",
       "      <th>pickup_day_Monday</th>\n",
       "      <td>-0.000000</td>\n",
       "    </tr>\n",
       "    <tr>\n",
       "      <th>pickup_day_Thursday</th>\n",
       "      <td>-0.000000</td>\n",
       "    </tr>\n",
       "    <tr>\n",
       "      <th>pickup_day_Tuesday</th>\n",
       "      <td>0.000000</td>\n",
       "    </tr>\n",
       "    <tr>\n",
       "      <th>pickup_day_Wednesday</th>\n",
       "      <td>-0.000000</td>\n",
       "    </tr>\n",
       "  </tbody>\n",
       "</table>\n",
       "</div>"
      ],
      "text/plain": [
       "                             0\n",
       "PULocationID          0.000000\n",
       "DOLocationID          0.000000\n",
       "pickup_mins           0.000000\n",
       "trip_distance        -0.000000\n",
       "fare_amount          -0.001687\n",
       "extra                -0.000000\n",
       "tip_amount           -0.000000\n",
       "tolls_amount         -0.000000\n",
       "congestion_surcharge  0.000000\n",
       "Airport_fee          -0.000000\n",
       "trip_duration_secs   -0.003171\n",
       "VendorID_2           -0.000000\n",
       "passenger_count_2    -0.000000\n",
       "passenger_count_3    -0.000000\n",
       "passenger_count_4    -0.000000\n",
       "passenger_count_5    -0.000000\n",
       "passenger_count_6     0.000000\n",
       "RatecodeID_2.0       -0.000000\n",
       "RatecodeID_3.0       -0.000000\n",
       "RatecodeID_4.0       -0.000000\n",
       "RatecodeID_5.0       -0.000000\n",
       "store_and_fwd_flag_Y  0.000000\n",
       "payment_type_2        0.000000\n",
       "payment_type_3        0.000000\n",
       "payment_type_4        0.000000\n",
       "pickup_hour_17       -0.000000\n",
       "pickup_hour_18        0.000000\n",
       "pickup_hour_19        0.000000\n",
       "drop_hour_17         -0.000000\n",
       "drop_hour_18         -0.000000\n",
       "drop_hour_19          0.000000\n",
       "drop_hour_20         -0.000000\n",
       "drop_hour_21         -0.000000\n",
       "pickup_day_Monday    -0.000000\n",
       "pickup_day_Thursday  -0.000000\n",
       "pickup_day_Tuesday    0.000000\n",
       "pickup_day_Wednesday -0.000000"
      ]
     },
     "execution_count": 55,
     "metadata": {},
     "output_type": "execute_result"
    }
   ],
   "source": [
    "# create a dataframe of features and its coefficients\n",
    "pd.DataFrame(lasso_model.coef_, index=X_train_enc.columns)"
   ]
  },
  {
   "cell_type": "code",
   "execution_count": 56,
   "id": "0c54dbec",
   "metadata": {},
   "outputs": [
    {
     "data": {
      "text/plain": [
       "GridSearchCV(cv=10, estimator=Lasso(),\n",
       "             param_grid={'alpha': array([0.001, 0.002, 0.003, 0.004, 0.005, 0.006, 0.007, 0.008, 0.009,\n",
       "       0.01 ])},\n",
       "             scoring='r2')"
      ]
     },
     "execution_count": 56,
     "metadata": {},
     "output_type": "execute_result"
    }
   ],
   "source": [
    "# performing gridsearch CV to find the best hyper parameter values\n",
    "tuned_params = {'alpha':np.arange(0.001,0.011, 0.001)}\n",
    "\n",
    "estimator = Lasso() #lasso base model\n",
    "\n",
    "lasso_grid = GridSearchCV(estimator=estimator, param_grid=tuned_params, cv=10, scoring='r2')\n",
    "\n",
    "lasso_grid.fit(X_train_enc, y_train)"
   ]
  },
  {
   "cell_type": "code",
   "execution_count": 57,
   "id": "281d10be",
   "metadata": {},
   "outputs": [
    {
     "data": {
      "text/plain": [
       "{'alpha': 0.001}"
      ]
     },
     "execution_count": 57,
     "metadata": {},
     "output_type": "execute_result"
    }
   ],
   "source": [
    "# printing the best parameter value of lasso model\n",
    "lasso_grid.best_params_"
   ]
  },
  {
   "cell_type": "code",
   "execution_count": 58,
   "id": "7713e5e8",
   "metadata": {},
   "outputs": [],
   "source": [
    "# build lasso model with the best hyper paramter value\n",
    "lasso= Lasso(alpha=0.001)\n",
    "lasso_model = lasso.fit(X_train_enc, y_train)"
   ]
  },
  {
   "cell_type": "code",
   "execution_count": 59,
   "id": "7fa31976",
   "metadata": {},
   "outputs": [
    {
     "data": {
      "text/plain": [
       "Index(['fare_amount', 'tip_amount', 'trip_duration_secs'], dtype='object')"
      ]
     },
     "execution_count": 59,
     "metadata": {},
     "output_type": "execute_result"
    }
   ],
   "source": [
    "# printing the features whose coefficiet values are not equal to 0\n",
    "df_coefs = pd.DataFrame(lasso_model.coef_, index=X_train_enc.columns)\n",
    "best_feat = df_coefs[df_coefs[0] != 0].index\n",
    "best_feat"
   ]
  },
  {
   "cell_type": "code",
   "execution_count": 60,
   "id": "9da43442",
   "metadata": {},
   "outputs": [
    {
     "name": "stdout",
     "output_type": "stream",
     "text": [
      "                            OLS Regression Results                            \n",
      "==============================================================================\n",
      "Dep. Variable:           total_amount   R-squared:                       0.723\n",
      "Model:                            OLS   Adj. R-squared:                  0.723\n",
      "Method:                 Least Squares   F-statistic:                 8.056e+04\n",
      "Date:                Sun, 15 Oct 2023   Prob (F-statistic):               0.00\n",
      "Time:                        16:31:25   Log-Likelihood:             2.9984e+05\n",
      "No. Observations:               92410   AIC:                        -5.997e+05\n",
      "Df Residuals:                   92406   BIC:                        -5.996e+05\n",
      "Df Model:                           3                                         \n",
      "Covariance Type:            nonrobust                                         \n",
      "======================================================================================\n",
      "                         coef    std err          t      P>|t|      [0.025      0.975]\n",
      "--------------------------------------------------------------------------------------\n",
      "const                  0.0449    3.1e-05   1446.287      0.000       0.045       0.045\n",
      "fare_amount           -0.0047   7.77e-05    -60.972      0.000      -0.005      -0.005\n",
      "tip_amount            -0.0035   3.79e-05    -92.954      0.000      -0.004      -0.003\n",
      "trip_duration_secs    -0.0085   7.46e-05   -114.303      0.000      -0.009      -0.008\n",
      "==============================================================================\n",
      "Omnibus:                    28164.868   Durbin-Watson:                   1.993\n",
      "Prob(Omnibus):                  0.000   Jarque-Bera (JB):           105591.826\n",
      "Skew:                           1.498   Prob(JB):                         0.00\n",
      "Kurtosis:                       7.294   Cond. No.                         5.18\n",
      "==============================================================================\n",
      "\n",
      "Notes:\n",
      "[1] Standard Errors assume that the covariance matrix of the errors is correctly specified.\n"
     ]
    }
   ],
   "source": [
    "# Rebuilding Linear Regression model based on the best features selected from Lasso\n",
    "X_train_ = sm.add_constant(X_train_enc[best_feat])\n",
    "X_test_ = sm.add_constant(X_test_enc[best_feat])\n",
    "\n",
    "model_new = sm.OLS(y_train, X_train_).fit()\n",
    "print(model_new.summary())"
   ]
  },
  {
   "cell_type": "code",
   "execution_count": 83,
   "id": "f4d8d96d",
   "metadata": {},
   "outputs": [],
   "source": [
    "# In this variant after using gridsearch cv the condition number is 5.18, which means there is no multicollinearity.\n",
    "# The probability of JB < 0.05 => still residuals aren't normally distributed"
   ]
  },
  {
   "cell_type": "code",
   "execution_count": null,
   "id": "3411dc34",
   "metadata": {},
   "outputs": [],
   "source": [
    "# To improve that, let's further transform the independeant variables and redo the same variant."
   ]
  },
  {
   "cell_type": "code",
   "execution_count": 61,
   "id": "1c184042",
   "metadata": {},
   "outputs": [],
   "source": [
    "# create new dataframe with slected features from Lasso\n",
    "df_new = df[['fare_amount', 'tip_amount', 'trip_duration_secs']]"
   ]
  },
  {
   "cell_type": "code",
   "execution_count": null,
   "id": "c24dc407",
   "metadata": {},
   "outputs": [],
   "source": [
    "# Tranforming independent variables using best transformation method "
   ]
  },
  {
   "cell_type": "code",
   "execution_count": 62,
   "id": "a2e5f455",
   "metadata": {},
   "outputs": [
    {
     "name": "stdout",
     "output_type": "stream",
     "text": [
      "Skewness box_cox_trans: 0.04149789871144673\n",
      "Skewness sqrt_trans: 1.6353776188368694\n",
      "Skewness log_trans: 0.7993073212195265\n",
      "Skewness reciprocal trans: 0.7660859666263414\n",
      "Skewness cbrt_trans: 1.3581272015215333\n"
     ]
    }
   ],
   "source": [
    "# trying different transformation techniques for fare amount\n",
    "print('Skewness box_cox_trans:', stats.skew(stats.boxcox(df_new['fare_amount'])[0]))\n",
    "print('Skewness sqrt_trans:', stats.skew(np.sqrt(df_new['fare_amount'])))\n",
    "print('Skewness log_trans:', stats.skew(np.log(df_new['fare_amount'])))\n",
    "print('Skewness reciprocal trans:', stats.skew(1/df_new['fare_amount']))\n",
    "print('Skewness cbrt_trans:', stats.skew(np.cbrt(df_new['fare_amount'])))"
   ]
  },
  {
   "cell_type": "code",
   "execution_count": 63,
   "id": "43e2d3c9",
   "metadata": {},
   "outputs": [],
   "source": [
    "# box_cox gives the best skewness for fare amount\n",
    "df_new['fare_amount'] = stats.boxcox(df_new['fare_amount'])[0]"
   ]
  },
  {
   "cell_type": "code",
   "execution_count": 64,
   "id": "c74e5071",
   "metadata": {},
   "outputs": [
    {
     "name": "stdout",
     "output_type": "stream",
     "text": [
      "Skewness box_cox_trans: -0.36992839439488623\n",
      "Skewness sqrt_trans: 0.09630919744322188\n",
      "Skewness log_trans: -1.2142537909666757\n",
      "Skewness reciprocal trans: nan\n",
      "Skewness cbrt_trans: -0.6682242334175621\n"
     ]
    }
   ],
   "source": [
    "# trying different transformation techniques for tip amount\n",
    "print('Skewness box_cox_trans:', stats.skew(stats.boxcox(df_new['tip_amount']+0.01)[0]))\n",
    "print('Skewness sqrt_trans:', stats.skew(np.sqrt(df_new['tip_amount'])))\n",
    "print('Skewness log_trans:', stats.skew(np.log(df_new['tip_amount']+0.01)))\n",
    "print('Skewness reciprocal trans:', stats.skew(1/df_new['tip_amount']+0.01))\n",
    "print('Skewness cbrt_trans:', stats.skew(np.cbrt(df_new['tip_amount'])))"
   ]
  },
  {
   "cell_type": "code",
   "execution_count": 65,
   "id": "c0418a1f",
   "metadata": {},
   "outputs": [],
   "source": [
    "# sqrt gives the best skewness for tip amount\n",
    "df_new['tip_amount'] = np.sqrt(df_new['tip_amount'])"
   ]
  },
  {
   "cell_type": "code",
   "execution_count": 66,
   "id": "17c59226",
   "metadata": {},
   "outputs": [
    {
     "name": "stdout",
     "output_type": "stream",
     "text": [
      "Skewness box_cox_trans: -5.006780768003159e-05\n",
      "Skewness sqrt_trans: 1.1006870709627785\n",
      "Skewness log_trans: 0.013418649524421402\n",
      "Skewness reciprocal trans: 2.8448642025552564\n",
      "Skewness cbrt_trans: 0.7343567367227894\n"
     ]
    }
   ],
   "source": [
    "# trying different transformation techniques for trip_duration_secs\n",
    "print('Skewness box_cox_trans:', stats.skew(stats.boxcox(df_new['trip_duration_secs'])[0]))\n",
    "print('Skewness sqrt_trans:', stats.skew(np.sqrt(df_new['trip_duration_secs'])))\n",
    "print('Skewness log_trans:', stats.skew(np.log(df_new['trip_duration_secs'])))\n",
    "print('Skewness reciprocal trans:', stats.skew(1/df_new['trip_duration_secs']))\n",
    "print('Skewness cbrt_trans:', stats.skew(np.cbrt(df_new['trip_duration_secs'])))"
   ]
  },
  {
   "cell_type": "code",
   "execution_count": 67,
   "id": "9a82f3aa",
   "metadata": {},
   "outputs": [],
   "source": [
    "# box_cox gives the best skewness for trip_duration_secs\n",
    "df['trip_duration_secs'] = stats.boxcox(df_new['trip_duration_secs'])[0]"
   ]
  },
  {
   "cell_type": "code",
   "execution_count": 68,
   "id": "b4293112",
   "metadata": {},
   "outputs": [],
   "source": [
    "# scaling the transformed data\n",
    "df_new_scaled = df_new.apply(stats.zscore)"
   ]
  },
  {
   "cell_type": "code",
   "execution_count": 69,
   "id": "1dd1b15c",
   "metadata": {},
   "outputs": [],
   "source": [
    "# split train and test data\n",
    "X_new = df_new_scaled.copy()\n",
    "X_new_ = sm.add_constant(X_new)\n",
    "y = df_target\n",
    "\n",
    "X_train_best, X_test_best, y_train, y_test = train_test_split(X_new_,y,test_size = 0.3, random_state=0)"
   ]
  },
  {
   "cell_type": "code",
   "execution_count": 70,
   "id": "0c2ed9c7",
   "metadata": {},
   "outputs": [
    {
     "name": "stdout",
     "output_type": "stream",
     "text": [
      "                            OLS Regression Results                            \n",
      "==============================================================================\n",
      "Dep. Variable:           total_amount   R-squared:                       0.964\n",
      "Model:                            OLS   Adj. R-squared:                  0.964\n",
      "Method:                 Least Squares   F-statistic:                 8.301e+05\n",
      "Date:                Sun, 15 Oct 2023   Prob (F-statistic):               0.00\n",
      "Time:                        16:32:33   Log-Likelihood:             3.9434e+05\n",
      "No. Observations:               92410   AIC:                        -7.887e+05\n",
      "Df Residuals:                   92406   BIC:                        -7.886e+05\n",
      "Df Model:                           3                                         \n",
      "Covariance Type:            nonrobust                                         \n",
      "======================================================================================\n",
      "                         coef    std err          t      P>|t|      [0.025      0.975]\n",
      "--------------------------------------------------------------------------------------\n",
      "const                  0.0449   1.12e-05   4021.103      0.000       0.045       0.045\n",
      "fare_amount           -0.0162   2.13e-05   -761.725      0.000      -0.016      -0.016\n",
      "tip_amount            -0.0036    1.2e-05   -295.981      0.000      -0.004      -0.004\n",
      "trip_duration_secs     0.0002   2.11e-05     11.084      0.000       0.000       0.000\n",
      "==============================================================================\n",
      "Omnibus:                    44460.227   Durbin-Watson:                   2.004\n",
      "Prob(Omnibus):                  0.000   Jarque-Bera (JB):          1432085.882\n",
      "Skew:                           1.701   Prob(JB):                         0.00\n",
      "Kurtosis:                      21.983   Cond. No.                         3.70\n",
      "==============================================================================\n",
      "\n",
      "Notes:\n",
      "[1] Standard Errors assume that the covariance matrix of the errors is correctly specified.\n"
     ]
    }
   ],
   "source": [
    "# Rebuilding LR model after transformation of independent variables using lasso gcv features \n",
    "model_transformed = sm.OLS(y_train, X_train_best).fit()\n",
    "print(model_transformed.summary())"
   ]
  },
  {
   "cell_type": "code",
   "execution_count": null,
   "id": "4f1084cb",
   "metadata": {},
   "outputs": [],
   "source": [
    "# NOTE: the r2 and adj_r2 scores have significantly improved. \n",
    "\n",
    "# Assumptions before model building:\n",
    "# 1. target variable numerical - Satisfied\n",
    "# 2. No multicolinearity - Satisfied (Condition number < 100)\n",
    "\n",
    "### Assumptions after:\n",
    "# 3. No autocorrelation - Satisfied (As durbin-watson is giving a value of nearly 2)\n",
    "# 4. Normality amond residuals - Not satisfied (As the probability of JB is 0 which is less than the alpha value of 0.05)\n",
    "# 5. No Heteroscedasticity - Not satisfied (Proved in the following cells)\n",
    "# 6. Linear relationship between fitted and residuals - Not satisfied (Proved in the following cells)"
   ]
  },
  {
   "cell_type": "code",
   "execution_count": 71,
   "id": "1dcbdce3",
   "metadata": {},
   "outputs": [
    {
     "data": {
      "image/png": "[encoded data removed]",
      "text/plain": [
       "<Figure size 1300x800 with 1 Axes>"
      ]
     },
     "metadata": {},
     "output_type": "display_data"
    }
   ],
   "source": [
    "# Assumption 6 : Linear relationship between fitted and residuals\n",
    "plt.figure(figsize = (13,8))\n",
    "sns.scatterplot(x = model_transformed.fittedvalues, y = model_transformed.resid)\n",
    "plt.title('Fitted Vs Residual values')\n",
    "plt.xlabel('Fitted Values')\n",
    "plt.ylabel('Residuals')\n",
    "plt.show()"
   ]
  },
  {
   "cell_type": "code",
   "execution_count": null,
   "id": "cb34dbce",
   "metadata": {},
   "outputs": [],
   "source": [
    "# the above plot confirms that there is no linear relationship between fitted and residual values.\n",
    "# Assumption is not satisfied."
   ]
  },
  {
   "cell_type": "code",
   "execution_count": 72,
   "id": "f4f6cb58",
   "metadata": {},
   "outputs": [
    {
     "name": "stdout",
     "output_type": "stream",
     "text": [
      "Rejecting null Hypothesis. Thus, Heteroskedasticity is present\n"
     ]
    }
   ],
   "source": [
    "# Assumption 5: No Heteroscedasticity\n",
    "\n",
    "Ho = 'Homoskedasticity is present'\n",
    "Ha = 'Heteroskedasticity is present'\n",
    "\n",
    "hprob = sms.het_breuschpagan(resid = model_transformed.resid, exog_het = model_transformed.model.exog, robust = True)\n",
    "\n",
    "if hprob[3] < 0.5:\n",
    "    print(f'Rejecting null Hypothesis. Thus, {Ha}')\n",
    "else:\n",
    "    print(f'Failing to reject null hypothesis. Thus, {Ho}')"
   ]
  },
  {
   "cell_type": "code",
   "execution_count": null,
   "id": "0ee5b1c8",
   "metadata": {},
   "outputs": [],
   "source": [
    "# Conclusion: After trying multiple methods, it can be confirmed that there is no linear relationship. \n",
    "# Hence, non-linear models should be done further."
   ]
  },
  {
   "cell_type": "markdown",
   "id": "79925c23",
   "metadata": {},
   "source": [
    "<b>NON LINEAR MODEL BUILDING WITH ALL THE VARIABLES</b>"
   ]
  },
  {
   "cell_type": "code",
   "execution_count": 119,
   "id": "ab969436",
   "metadata": {},
   "outputs": [],
   "source": [
    "# create a copy of the dataframe\n",
    "df2=df.copy()"
   ]
  },
  {
   "cell_type": "code",
   "execution_count": 120,
   "id": "db42c245",
   "metadata": {},
   "outputs": [],
   "source": [
    "# dropping columns which provides redundant information to the model and features with no variance\n",
    "\n",
    "df2.drop(columns=['pickup_date','dropoff_date','tpep_pickup_datetime','tpep_dropoff_datetime', 'PU_Zone', 'PU_service_zone', \n",
    "                  'DO_Zone','DO_service_zone', 'VendorID', 'mta_tax', 'improvement_surcharge', 'dropoff_day', \n",
    "                  'fare_amount', 'PU_Borough', 'DO_Borough', 'drop_hour'],inplace=True)"
   ]
  },
  {
   "cell_type": "code",
   "execution_count": 121,
   "id": "99848965",
   "metadata": {},
   "outputs": [],
   "source": [
    "df3 = df2.copy()"
   ]
  },
  {
   "cell_type": "code",
   "execution_count": 122,
   "id": "02d8772b",
   "metadata": {},
   "outputs": [],
   "source": [
    "# create a function for preprocessing of numeric and categoric variables\n",
    "def preprocessing_df1(data,y):\n",
    "    ss=StandardScaler()\n",
    "    numeric_ind = data.select_dtypes(include='number').drop(columns=['RatecodeID','PULocationID','DOLocationID','pickup_mins',\n",
    "                                                                     'pickup_hour', 'passenger_count', 'payment_type']) \n",
    "    scaled = ss.fit_transform(numeric_ind)\n",
    "    scaled_num = pd.DataFrame(scaled,columns=numeric_ind.columns)\n",
    "\n",
    "    \n",
    "    TE= TargetEncoder(cols=['PULocationID','DOLocationID','pickup_mins'])\n",
    "    tencod = TE.fit_transform(data[['PULocationID','DOLocationID', 'pickup_mins']],y).reset_index(drop=True)\n",
    "\n",
    "    \n",
    "    ohe = pd.get_dummies((data[['RatecodeID', 'pickup_day', 'pickup_hour', 'passenger_count', 'store_and_fwd_flag', \n",
    "                                'payment_type']]).astype('object'),drop_first=True).reset_index(drop=True) \n",
    "    cat = pd.concat([tencod,ohe],axis=1)\n",
    "\n",
    "\n",
    "    finaldf = pd.concat([scaled_num,cat],axis=1)\n",
    "\n",
    "    \n",
    "    return finaldf"
   ]
  },
  {
   "cell_type": "code",
   "execution_count": 123,
   "id": "1f1b10bc",
   "metadata": {},
   "outputs": [],
   "source": [
    "# split target and indepdent variables\n",
    "X= df2.drop(columns=['total_amount'])\n",
    "y= df2.total_amount\n",
    "\n",
    "# split train and test data\n",
    "Xtrain,Xtest,ytrain,ytest = train_test_split(X,y,test_size=0.3,random_state=1)"
   ]
  },
  {
   "cell_type": "code",
   "execution_count": 124,
   "id": "3cdfd47a",
   "metadata": {},
   "outputs": [],
   "source": [
    "# preprocessing of train and test data\n",
    "Xtrain = preprocessing_df1(Xtrain,ytrain)\n",
    "Xtest = preprocessing_df1(Xtest,ytest)"
   ]
  },
  {
   "cell_type": "code",
   "execution_count": 125,
   "id": "a5c7ee0b",
   "metadata": {},
   "outputs": [],
   "source": [
    "# create a fucntion for reviewing the scores of each model\n",
    "score_card = pd.DataFrame(columns=['MODEL','DATA','R2','MAE','MSE','RMSE','MAPE'])\n",
    "\n",
    "def model_performance(model,yact,xtest,data,mname):\n",
    "      \n",
    "    predicted = model.predict(xtest)\n",
    "    MAE = mean_absolute_error(yact,predicted)\n",
    "    MSE = mean_squared_error(yact,predicted)\n",
    "    RMSE = np.sqrt(mean_squared_error(yact,predicted))\n",
    "    R2 = r2_score(yact,predicted)\n",
    "    MAPE = mean_absolute_percentage_error(yact,predicted)\n",
    "    global score_card\n",
    "    score_card = pd.concat([score_card,pd.DataFrame({'MODEL':[mname],'DATA':[data],'R2':[R2],'MAE': [MAE], 'MSE':[MSE],'RMSE':[RMSE],'MAPE':[MAPE]})],ignore_index=True)"
   ]
  },
  {
   "cell_type": "code",
   "execution_count": 126,
   "id": "17ea47c0",
   "metadata": {},
   "outputs": [],
   "source": [
    "# Instantiating different Non-Linear Regression models\n",
    "#KNN\n",
    "knr = KNeighborsRegressor(n_neighbors = 3)\n",
    "knr.fit(Xtrain,ytrain)\n",
    "model_performance(knr,ytrain,Xtrain,'TRAIN','K-NEAREST REGRESSOR')\n",
    "model_performance(knr,ytest,Xtest,'TEST','K-NEAREST REGRESSOR')\n",
    "\n",
    "#DECISION TREE\n",
    "DTR = DecisionTreeRegressor(max_depth = 5)\n",
    "DTR.fit(Xtrain,ytrain)\n",
    "model_performance(DTR,ytrain,Xtrain,'TRAIN','DECISION TREE REGRESSOR')\n",
    "model_performance(DTR,ytest,Xtest,'TEST','DECISION TREE REGRESSOR')\n",
    "\n",
    "#RANDOM FOREST\n",
    "rfr = RandomForestRegressor()\n",
    "rfr.fit(Xtrain,ytrain)\n",
    "model_performance(rfr,ytrain,Xtrain,'TRAIN','RANDOM FOREST REGRESSOR')\n",
    "model_performance(rfr,ytest,Xtest,'TEST','RANDOM FOREST REGRESSOR')\n",
    "\n",
    "#ADA BOOST\n",
    "abr = AdaBoostRegressor()\n",
    "abr.fit(Xtrain,ytrain)\n",
    "model_performance(abr,ytrain,Xtrain,'TRAIN','ADA BOOST REGRESSOR')\n",
    "model_performance(abr,ytest,Xtest,'TEST','ADA BOOST REGRESSOR')\n",
    "\n",
    "#GRADIENT BOOST\n",
    "GB = GradientBoostingRegressor()\n",
    "GB.fit(Xtrain,ytrain)\n",
    "model_performance(GB,ytrain,Xtrain,'TRAIN','GRADIENT BOOST REGRESSOR')\n",
    "model_performance(GB,ytest,Xtest,'TEST','GRADIENT BOOST REGRESSOR')\n",
    "\n",
    "#XGBOOST\n",
    "xg = XGBRegressor()\n",
    "xg.fit(Xtrain,ytrain)\n",
    "model_performance(xg,ytrain,Xtrain,'TRAIN','XGBOOST REGRESSOR')\n",
    "model_performance(xg,ytest,Xtest,'TEST','XGBOOST REGRESSOR')"
   ]
  },
  {
   "cell_type": "code",
   "execution_count": 127,
   "id": "1cba6de3",
   "metadata": {},
   "outputs": [
    {
     "data": {
      "text/html": [
       "<div>\n",
       "<style scoped>\n",
       "    .dataframe tbody tr th:only-of-type {\n",
       "        vertical-align: middle;\n",
       "    }\n",
       "\n",
       "    .dataframe tbody tr th {\n",
       "        vertical-align: top;\n",
       "    }\n",
       "\n",
       "    .dataframe thead th {\n",
       "        text-align: right;\n",
       "    }\n",
       "</style>\n",
       "<table border=\"1\" class=\"dataframe\">\n",
       "  <thead>\n",
       "    <tr style=\"text-align: right;\">\n",
       "      <th></th>\n",
       "      <th>MODEL</th>\n",
       "      <th>DATA</th>\n",
       "      <th>R2</th>\n",
       "      <th>MAE</th>\n",
       "      <th>MSE</th>\n",
       "      <th>RMSE</th>\n",
       "      <th>MAPE</th>\n",
       "    </tr>\n",
       "  </thead>\n",
       "  <tbody>\n",
       "    <tr>\n",
       "      <th>0</th>\n",
       "      <td>K-NEAREST REGRESSOR</td>\n",
       "      <td>TRAIN</td>\n",
       "      <td>0.986768</td>\n",
       "      <td>1.341923</td>\n",
       "      <td>5.657011</td>\n",
       "      <td>2.378447</td>\n",
       "      <td>0.048605</td>\n",
       "    </tr>\n",
       "    <tr>\n",
       "      <th>1</th>\n",
       "      <td>K-NEAREST REGRESSOR</td>\n",
       "      <td>TEST</td>\n",
       "      <td>0.968097</td>\n",
       "      <td>2.069158</td>\n",
       "      <td>13.456162</td>\n",
       "      <td>3.668264</td>\n",
       "      <td>0.074284</td>\n",
       "    </tr>\n",
       "    <tr>\n",
       "      <th>2</th>\n",
       "      <td>DECISION TREE REGRESSOR</td>\n",
       "      <td>TRAIN</td>\n",
       "      <td>0.966044</td>\n",
       "      <td>2.282833</td>\n",
       "      <td>14.516541</td>\n",
       "      <td>3.810058</td>\n",
       "      <td>0.086593</td>\n",
       "    </tr>\n",
       "    <tr>\n",
       "      <th>3</th>\n",
       "      <td>DECISION TREE REGRESSOR</td>\n",
       "      <td>TEST</td>\n",
       "      <td>0.965031</td>\n",
       "      <td>2.299305</td>\n",
       "      <td>14.749414</td>\n",
       "      <td>3.840497</td>\n",
       "      <td>0.086637</td>\n",
       "    </tr>\n",
       "    <tr>\n",
       "      <th>4</th>\n",
       "      <td>RANDOM FOREST REGRESSOR</td>\n",
       "      <td>TRAIN</td>\n",
       "      <td>0.999076</td>\n",
       "      <td>0.159464</td>\n",
       "      <td>0.394966</td>\n",
       "      <td>0.628463</td>\n",
       "      <td>0.005256</td>\n",
       "    </tr>\n",
       "    <tr>\n",
       "      <th>5</th>\n",
       "      <td>RANDOM FOREST REGRESSOR</td>\n",
       "      <td>TEST</td>\n",
       "      <td>0.994183</td>\n",
       "      <td>0.646291</td>\n",
       "      <td>2.453594</td>\n",
       "      <td>1.566395</td>\n",
       "      <td>0.021906</td>\n",
       "    </tr>\n",
       "    <tr>\n",
       "      <th>6</th>\n",
       "      <td>ADA BOOST REGRESSOR</td>\n",
       "      <td>TRAIN</td>\n",
       "      <td>0.465186</td>\n",
       "      <td>13.933121</td>\n",
       "      <td>228.639566</td>\n",
       "      <td>15.120832</td>\n",
       "      <td>0.718141</td>\n",
       "    </tr>\n",
       "    <tr>\n",
       "      <th>7</th>\n",
       "      <td>ADA BOOST REGRESSOR</td>\n",
       "      <td>TEST</td>\n",
       "      <td>0.455730</td>\n",
       "      <td>13.969589</td>\n",
       "      <td>229.562306</td>\n",
       "      <td>15.151314</td>\n",
       "      <td>0.718143</td>\n",
       "    </tr>\n",
       "    <tr>\n",
       "      <th>8</th>\n",
       "      <td>GRADIENT BOOST REGRESSOR</td>\n",
       "      <td>TRAIN</td>\n",
       "      <td>0.994821</td>\n",
       "      <td>0.812273</td>\n",
       "      <td>2.213895</td>\n",
       "      <td>1.487916</td>\n",
       "      <td>0.028143</td>\n",
       "    </tr>\n",
       "    <tr>\n",
       "      <th>9</th>\n",
       "      <td>GRADIENT BOOST REGRESSOR</td>\n",
       "      <td>TEST</td>\n",
       "      <td>0.993897</td>\n",
       "      <td>0.846310</td>\n",
       "      <td>2.573965</td>\n",
       "      <td>1.604358</td>\n",
       "      <td>0.028860</td>\n",
       "    </tr>\n",
       "    <tr>\n",
       "      <th>10</th>\n",
       "      <td>XGBOOST REGRESSOR</td>\n",
       "      <td>TRAIN</td>\n",
       "      <td>0.998630</td>\n",
       "      <td>0.483223</td>\n",
       "      <td>0.585686</td>\n",
       "      <td>0.765301</td>\n",
       "      <td>0.018626</td>\n",
       "    </tr>\n",
       "    <tr>\n",
       "      <th>11</th>\n",
       "      <td>XGBOOST REGRESSOR</td>\n",
       "      <td>TEST</td>\n",
       "      <td>0.995602</td>\n",
       "      <td>0.627562</td>\n",
       "      <td>1.854805</td>\n",
       "      <td>1.361912</td>\n",
       "      <td>0.022142</td>\n",
       "    </tr>\n",
       "  </tbody>\n",
       "</table>\n",
       "</div>"
      ],
      "text/plain": [
       "                       MODEL   DATA        R2        MAE         MSE  \\\n",
       "0        K-NEAREST REGRESSOR  TRAIN  0.986768   1.341923    5.657011   \n",
       "1        K-NEAREST REGRESSOR   TEST  0.968097   2.069158   13.456162   \n",
       "2    DECISION TREE REGRESSOR  TRAIN  0.966044   2.282833   14.516541   \n",
       "3    DECISION TREE REGRESSOR   TEST  0.965031   2.299305   14.749414   \n",
       "4    RANDOM FOREST REGRESSOR  TRAIN  0.999076   0.159464    0.394966   \n",
       "5    RANDOM FOREST REGRESSOR   TEST  0.994183   0.646291    2.453594   \n",
       "6        ADA BOOST REGRESSOR  TRAIN  0.465186  13.933121  228.639566   \n",
       "7        ADA BOOST REGRESSOR   TEST  0.455730  13.969589  229.562306   \n",
       "8   GRADIENT BOOST REGRESSOR  TRAIN  0.994821   0.812273    2.213895   \n",
       "9   GRADIENT BOOST REGRESSOR   TEST  0.993897   0.846310    2.573965   \n",
       "10         XGBOOST REGRESSOR  TRAIN  0.998630   0.483223    0.585686   \n",
       "11         XGBOOST REGRESSOR   TEST  0.995602   0.627562    1.854805   \n",
       "\n",
       "         RMSE      MAPE  \n",
       "0    2.378447  0.048605  \n",
       "1    3.668264  0.074284  \n",
       "2    3.810058  0.086593  \n",
       "3    3.840497  0.086637  \n",
       "4    0.628463  0.005256  \n",
       "5    1.566395  0.021906  \n",
       "6   15.120832  0.718141  \n",
       "7   15.151314  0.718143  \n",
       "8    1.487916  0.028143  \n",
       "9    1.604358  0.028860  \n",
       "10   0.765301  0.018626  \n",
       "11   1.361912  0.022142  "
      ]
     },
     "execution_count": 127,
     "metadata": {},
     "output_type": "execute_result"
    }
   ],
   "source": [
    "# print scores for different models to compare the accuracy\n",
    "score_card"
   ]
  },
  {
   "cell_type": "code",
   "execution_count": null,
   "id": "0679f71c",
   "metadata": {},
   "outputs": [],
   "source": [
    "# print the feature importance of each model to compare the distribution of importance among features"
   ]
  },
  {
   "cell_type": "code",
   "execution_count": 128,
   "id": "09128e1f",
   "metadata": {},
   "outputs": [
    {
     "data": {
      "text/plain": [
       "trip_distance           0.834535\n",
       "trip_duration_secs      0.098706\n",
       "tip_amount              0.045843\n",
       "tolls_amount            0.009348\n",
       "RatecodeID_2.0          0.006392\n",
       "extra                   0.001295\n",
       "DOLocationID            0.001000\n",
       "RatecodeID_5.0          0.000836\n",
       "PULocationID            0.000411\n",
       "congestion_surcharge    0.000373\n",
       "pickup_mins             0.000349\n",
       "RatecodeID_3.0          0.000337\n",
       "Airport_fee             0.000098\n",
       "pickup_hour_18          0.000054\n",
       "pickup_day_Thursday     0.000053\n",
       "pickup_day_Wednesday    0.000048\n",
       "pickup_day_Tuesday      0.000047\n",
       "RatecodeID_4.0          0.000044\n",
       "pickup_hour_19          0.000039\n",
       "pickup_hour_17          0.000037\n",
       "payment_type_2          0.000035\n",
       "passenger_count_2       0.000034\n",
       "pickup_day_Monday       0.000030\n",
       "passenger_count_4       0.000017\n",
       "passenger_count_3       0.000014\n",
       "payment_type_4          0.000010\n",
       "payment_type_3          0.000006\n",
       "store_and_fwd_flag_Y    0.000005\n",
       "passenger_count_5       0.000004\n",
       "passenger_count_6       0.000003\n",
       "dtype: float64"
      ]
     },
     "execution_count": 128,
     "metadata": {},
     "output_type": "execute_result"
    }
   ],
   "source": [
    "## RANDOM FOREST ##\n",
    "features = pd.Series(rfr.feature_importances_, index=rfr.feature_names_in_)\n",
    "features.sort_values(ascending=False)"
   ]
  },
  {
   "cell_type": "code",
   "execution_count": 129,
   "id": "27f79914",
   "metadata": {},
   "outputs": [
    {
     "data": {
      "text/plain": [
       "trip_distance           0.853424\n",
       "trip_duration_secs      0.096125\n",
       "tip_amount              0.036283\n",
       "tolls_amount            0.008662\n",
       "RatecodeID_2.0          0.005118\n",
       "RatecodeID_3.0          0.000388\n",
       "pickup_hour_19          0.000000\n",
       "passenger_count_2       0.000000\n",
       "passenger_count_3       0.000000\n",
       "passenger_count_4       0.000000\n",
       "passenger_count_6       0.000000\n",
       "passenger_count_5       0.000000\n",
       "pickup_hour_17          0.000000\n",
       "store_and_fwd_flag_Y    0.000000\n",
       "payment_type_2          0.000000\n",
       "payment_type_3          0.000000\n",
       "pickup_hour_18          0.000000\n",
       "pickup_day_Thursday     0.000000\n",
       "pickup_day_Wednesday    0.000000\n",
       "pickup_day_Tuesday      0.000000\n",
       "extra                   0.000000\n",
       "pickup_day_Monday       0.000000\n",
       "RatecodeID_5.0          0.000000\n",
       "RatecodeID_4.0          0.000000\n",
       "pickup_mins             0.000000\n",
       "DOLocationID            0.000000\n",
       "PULocationID            0.000000\n",
       "Airport_fee             0.000000\n",
       "congestion_surcharge    0.000000\n",
       "payment_type_4          0.000000\n",
       "dtype: float64"
      ]
     },
     "execution_count": 129,
     "metadata": {},
     "output_type": "execute_result"
    }
   ],
   "source": [
    "## DECISION TREE ##\n",
    "\n",
    "features = pd.Series(DTR.feature_importances_, index=rfr.feature_names_in_)\n",
    "features.sort_values(ascending=False)"
   ]
  },
  {
   "cell_type": "code",
   "execution_count": 130,
   "id": "07b1c112",
   "metadata": {},
   "outputs": [
    {
     "data": {
      "text/plain": [
       "trip_distance           8.285459e-01\n",
       "trip_duration_secs      8.916975e-02\n",
       "tip_amount              5.648981e-02\n",
       "tolls_amount            1.483256e-02\n",
       "RatecodeID_2.0          6.433767e-03\n",
       "extra                   1.850637e-03\n",
       "RatecodeID_5.0          1.090867e-03\n",
       "DOLocationID            5.975829e-04\n",
       "RatecodeID_3.0          4.415536e-04\n",
       "congestion_surcharge    2.664389e-04\n",
       "RatecodeID_4.0          1.463557e-04\n",
       "PULocationID            9.867082e-05\n",
       "pickup_mins             1.924576e-05\n",
       "pickup_hour_18          1.420462e-05\n",
       "Airport_fee             2.466776e-06\n",
       "payment_type_2          1.671792e-07\n",
       "passenger_count_3       0.000000e+00\n",
       "payment_type_3          0.000000e+00\n",
       "store_and_fwd_flag_Y    0.000000e+00\n",
       "passenger_count_6       0.000000e+00\n",
       "passenger_count_5       0.000000e+00\n",
       "passenger_count_4       0.000000e+00\n",
       "pickup_day_Thursday     0.000000e+00\n",
       "passenger_count_2       0.000000e+00\n",
       "pickup_hour_19          0.000000e+00\n",
       "pickup_hour_17          0.000000e+00\n",
       "pickup_day_Wednesday    0.000000e+00\n",
       "pickup_day_Tuesday      0.000000e+00\n",
       "pickup_day_Monday       0.000000e+00\n",
       "payment_type_4          0.000000e+00\n",
       "dtype: float64"
      ]
     },
     "execution_count": 130,
     "metadata": {},
     "output_type": "execute_result"
    }
   ],
   "source": [
    "## Gradient Boost ##\n",
    "\n",
    "features = pd.Series(GB.feature_importances_, index=rfr.feature_names_in_)\n",
    "features.sort_values(ascending=False)"
   ]
  },
  {
   "cell_type": "code",
   "execution_count": 131,
   "id": "842f849e",
   "metadata": {},
   "outputs": [
    {
     "data": {
      "text/plain": [
       "trip_distance           0.724232\n",
       "trip_duration_secs      0.077165\n",
       "RatecodeID_2.0          0.061042\n",
       "tip_amount              0.045186\n",
       "tolls_amount            0.040914\n",
       "RatecodeID_3.0          0.012944\n",
       "RatecodeID_5.0          0.010112\n",
       "extra                   0.008833\n",
       "RatecodeID_4.0          0.005039\n",
       "congestion_surcharge    0.003700\n",
       "Airport_fee             0.002040\n",
       "DOLocationID            0.001487\n",
       "PULocationID            0.001050\n",
       "passenger_count_2       0.000831\n",
       "pickup_mins             0.000678\n",
       "pickup_day_Thursday     0.000613\n",
       "pickup_hour_18          0.000607\n",
       "pickup_day_Tuesday      0.000603\n",
       "pickup_hour_19          0.000486\n",
       "payment_type_2          0.000407\n",
       "pickup_day_Wednesday    0.000315\n",
       "pickup_day_Monday       0.000292\n",
       "pickup_hour_17          0.000237\n",
       "payment_type_3          0.000231\n",
       "passenger_count_4       0.000227\n",
       "passenger_count_3       0.000198\n",
       "store_and_fwd_flag_Y    0.000189\n",
       "payment_type_4          0.000135\n",
       "passenger_count_6       0.000122\n",
       "passenger_count_5       0.000084\n",
       "dtype: float32"
      ]
     },
     "execution_count": 131,
     "metadata": {},
     "output_type": "execute_result"
    }
   ],
   "source": [
    "## XGBoost ##\n",
    "\n",
    "features = pd.Series(xg.feature_importances_, index=rfr.feature_names_in_)\n",
    "features.sort_values(ascending=False)"
   ]
  },
  {
   "cell_type": "code",
   "execution_count": 144,
   "id": "1d8eac4d",
   "metadata": {},
   "outputs": [],
   "source": [
    "def preprocessing_df2(data,y):\n",
    "    ss=StandardScaler()\n",
    "    numeric_ind = data.select_dtypes(include='number').drop(columns=['RatecodeID','PULocationID','DOLocationID','pickup_mins',\n",
    "                                                                     'pickup_hour']) \n",
    "    scaled = ss.fit_transform(numeric_ind)\n",
    "    scaled_num = pd.DataFrame(scaled,columns=numeric_ind.columns)\n",
    "\n",
    "    \n",
    "    TE= TargetEncoder(cols=['PULocationID','DOLocationID','pickup_mins'])\n",
    "    tencod = TE.fit_transform(data[['PULocationID','DOLocationID', 'pickup_mins']],y).reset_index(drop=True)\n",
    "\n",
    "    \n",
    "    ohe = pd.get_dummies((data[['RatecodeID', 'pickup_day', 'pickup_hour']]).astype('object'),drop_first=True).reset_index(drop=True) \n",
    "    cat = pd.concat([tencod,ohe],axis=1)\n",
    "\n",
    "\n",
    "    finaldf = pd.concat([scaled_num,cat],axis=1)\n",
    "\n",
    "    \n",
    "    return finaldf"
   ]
  },
  {
   "cell_type": "code",
   "execution_count": 145,
   "id": "3cee8c77",
   "metadata": {},
   "outputs": [],
   "source": [
    "# train test split for XGB Model after removing insignificant features based on feature importance\n",
    "X= df4.drop(columns=['total_amount'])\n",
    "y= df4.total_amount\n",
    "\n",
    "Xtrain,Xtest,ytrain,ytest = train_test_split(X,y,test_size=0.3,random_state=1)\n",
    "\n",
    "Xtrain = preprocessing_df2(Xtrain,ytrain)\n",
    "Xtest = preprocessing_df2(Xtest,ytest)"
   ]
  },
  {
   "cell_type": "code",
   "execution_count": 146,
   "id": "04411984",
   "metadata": {},
   "outputs": [],
   "source": [
    "# create scorecard\n",
    "score_card = pd.DataFrame(columns=['MODEL','DATA','R2','MAE','MSE','RMSE','MAPE'])"
   ]
  },
  {
   "cell_type": "code",
   "execution_count": 147,
   "id": "e89cfa8d",
   "metadata": {},
   "outputs": [],
   "source": [
    "#XGBOOST\n",
    "xg = XGBRegressor()\n",
    "xg.fit(Xtrain,ytrain)\n",
    "model_performance(xg,ytrain,Xtrain,'TRAIN','XGBOOST REGRESSOR')\n",
    "model_performance(xg,ytest,Xtest,'TEST','XGBOOST REGRESSOR')"
   ]
  },
  {
   "cell_type": "code",
   "execution_count": 148,
   "id": "f1c19d3b",
   "metadata": {},
   "outputs": [
    {
     "data": {
      "text/html": [
       "<div>\n",
       "<style scoped>\n",
       "    .dataframe tbody tr th:only-of-type {\n",
       "        vertical-align: middle;\n",
       "    }\n",
       "\n",
       "    .dataframe tbody tr th {\n",
       "        vertical-align: top;\n",
       "    }\n",
       "\n",
       "    .dataframe thead th {\n",
       "        text-align: right;\n",
       "    }\n",
       "</style>\n",
       "<table border=\"1\" class=\"dataframe\">\n",
       "  <thead>\n",
       "    <tr style=\"text-align: right;\">\n",
       "      <th></th>\n",
       "      <th>MODEL</th>\n",
       "      <th>DATA</th>\n",
       "      <th>R2</th>\n",
       "      <th>MAE</th>\n",
       "      <th>MSE</th>\n",
       "      <th>RMSE</th>\n",
       "      <th>MAPE</th>\n",
       "    </tr>\n",
       "  </thead>\n",
       "  <tbody>\n",
       "    <tr>\n",
       "      <th>0</th>\n",
       "      <td>XGBOOST REGRESSOR</td>\n",
       "      <td>TRAIN</td>\n",
       "      <td>0.998658</td>\n",
       "      <td>0.473828</td>\n",
       "      <td>0.573842</td>\n",
       "      <td>0.757524</td>\n",
       "      <td>0.018191</td>\n",
       "    </tr>\n",
       "    <tr>\n",
       "      <th>1</th>\n",
       "      <td>XGBOOST REGRESSOR</td>\n",
       "      <td>TEST</td>\n",
       "      <td>0.995584</td>\n",
       "      <td>0.623557</td>\n",
       "      <td>1.862566</td>\n",
       "      <td>1.364758</td>\n",
       "      <td>0.021946</td>\n",
       "    </tr>\n",
       "  </tbody>\n",
       "</table>\n",
       "</div>"
      ],
      "text/plain": [
       "               MODEL   DATA        R2       MAE       MSE      RMSE      MAPE\n",
       "0  XGBOOST REGRESSOR  TRAIN  0.998658  0.473828  0.573842  0.757524  0.018191\n",
       "1  XGBOOST REGRESSOR   TEST  0.995584  0.623557  1.862566  1.364758  0.021946"
      ]
     },
     "execution_count": 148,
     "metadata": {},
     "output_type": "execute_result"
    }
   ],
   "source": [
    "score_card"
   ]
  },
  {
   "cell_type": "code",
   "execution_count": 152,
   "id": "4f8064af",
   "metadata": {},
   "outputs": [
    {
     "data": {
      "text/plain": [
       "trip_distance           0.723854\n",
       "trip_duration_secs      0.066886\n",
       "RatecodeID_2.0          0.064768\n",
       "tip_amount              0.044172\n",
       "tolls_amount            0.041122\n",
       "RatecodeID_5.0          0.015163\n",
       "RatecodeID_3.0          0.010043\n",
       "extra                   0.008726\n",
       "RatecodeID_4.0          0.005052\n",
       "congestion_surcharge    0.004707\n",
       "Airport_fee             0.004045\n",
       "DOLocationID            0.002454\n",
       "pickup_hour_18          0.002268\n",
       "payment_type            0.001488\n",
       "PULocationID            0.001313\n",
       "pickup_hour_19          0.000981\n",
       "pickup_day_Tuesday      0.000946\n",
       "pickup_mins             0.000580\n",
       "pickup_day_Thursday     0.000441\n",
       "pickup_day_Wednesday    0.000334\n",
       "passenger_count         0.000279\n",
       "pickup_day_Monday       0.000190\n",
       "pickup_hour_17          0.000188\n",
       "dtype: float32"
      ]
     },
     "execution_count": 152,
     "metadata": {},
     "output_type": "execute_result"
    }
   ],
   "source": [
    "features = pd.Series(xg.feature_importances_, index=xg.feature_names_in_)\n",
    "features.sort_values(ascending=False)"
   ]
  },
  {
   "cell_type": "markdown",
   "id": "47c28c83",
   "metadata": {},
   "source": [
    "<b>GRIDSEARCH CV</b>"
   ]
  },
  {
   "cell_type": "code",
   "execution_count": null,
   "id": "16b72596",
   "metadata": {},
   "outputs": [],
   "source": [
    "# Gridsearch CV for best model (Xgboost since the data is not overfit and the feature importance is also good)"
   ]
  },
  {
   "cell_type": "code",
   "execution_count": 153,
   "id": "2c673b50",
   "metadata": {},
   "outputs": [
    {
     "data": {
      "text/plain": [
       "GridSearchCV(cv=2,\n",
       "             estimator=XGBRegressor(base_score=None, booster=None,\n",
       "                                    callbacks=None, colsample_bylevel=None,\n",
       "                                    colsample_bynode=None,\n",
       "                                    colsample_bytree=None,\n",
       "                                    early_stopping_rounds=None,\n",
       "                                    enable_categorical=False, eval_metric=None,\n",
       "                                    feature_types=None, gamma=None, gpu_id=None,\n",
       "                                    grow_policy=None, importance_type=None,\n",
       "                                    interaction_constraints=None,\n",
       "                                    learning_rate=None, m...\n",
       "                                    max_cat_to_onehot=None, max_delta_step=None,\n",
       "                                    max_depth=None, max_leaves=None,\n",
       "                                    min_child_weight=None, missing=nan,\n",
       "                                    monotone_constraints=None, n_estimators=100,\n",
       "                                    n_jobs=None, num_parallel_tree=None,\n",
       "                                    predictor=None, random_state=None, ...),\n",
       "             n_jobs=-1,\n",
       "             param_grid={'gamma': [0, 1, 2, 3, 4],\n",
       "                         'learning_rate': [0.1, 0.2, 0.3, 0.4, 0.5, 0.6],\n",
       "                         'max_depth': range(3, 10),\n",
       "                         'n_estimators': [100, 150, 200]})"
      ]
     },
     "execution_count": 153,
     "metadata": {},
     "output_type": "execute_result"
    }
   ],
   "source": [
    "##### XGB GCV #####\n",
    "xgb = XGBRegressor()\n",
    "\n",
    "tuned_params = {'n_estimators' :[100,150,200],\n",
    "                'learning_rate': [0.1, 0.2, 0.3, 0.4, 0.5, 0.6],\n",
    "                'max_depth': range(3,10),\n",
    "                'gamma': [0, 1, 2, 3, 4]}\n",
    "\n",
    "grid_xgb = GridSearchCV(xgb, tuned_params, n_jobs=-1, cv=2)\n",
    "\n",
    "grid_xgb.fit(Xtrain,ytrain)"
   ]
  },
  {
   "cell_type": "code",
   "execution_count": 154,
   "id": "68e4bc1d",
   "metadata": {},
   "outputs": [
    {
     "data": {
      "text/plain": [
       "{'gamma': 0, 'learning_rate': 0.4, 'max_depth': 4, 'n_estimators': 200}"
      ]
     },
     "execution_count": 154,
     "metadata": {},
     "output_type": "execute_result"
    }
   ],
   "source": [
    "# print the best params\n",
    "grid_xgb.best_params_"
   ]
  },
  {
   "cell_type": "code",
   "execution_count": 155,
   "id": "94d5b442",
   "metadata": {},
   "outputs": [],
   "source": [
    "# XGB regressor with best hyper parameter values\n",
    "xgb = XGBRegressor(gamma= 0, learning_rate= 0.4, max_depth= 4, n_estimators= 200)\n",
    "xgb.fit(Xtrain,ytrain)\n",
    "model_performance(xgb,ytrain,Xtrain,'TRAIN','XGBOOST REGRESSOR WITH GCV')\n",
    "model_performance(xgb,ytest,Xtest,'TEST','XGBOOST REGRESSOR WITH GCV')"
   ]
  },
  {
   "cell_type": "code",
   "execution_count": 156,
   "id": "e7cfda58",
   "metadata": {},
   "outputs": [
    {
     "data": {
      "text/html": [
       "<div>\n",
       "<style scoped>\n",
       "    .dataframe tbody tr th:only-of-type {\n",
       "        vertical-align: middle;\n",
       "    }\n",
       "\n",
       "    .dataframe tbody tr th {\n",
       "        vertical-align: top;\n",
       "    }\n",
       "\n",
       "    .dataframe thead th {\n",
       "        text-align: right;\n",
       "    }\n",
       "</style>\n",
       "<table border=\"1\" class=\"dataframe\">\n",
       "  <thead>\n",
       "    <tr style=\"text-align: right;\">\n",
       "      <th></th>\n",
       "      <th>MODEL</th>\n",
       "      <th>DATA</th>\n",
       "      <th>R2</th>\n",
       "      <th>MAE</th>\n",
       "      <th>MSE</th>\n",
       "      <th>RMSE</th>\n",
       "      <th>MAPE</th>\n",
       "    </tr>\n",
       "  </thead>\n",
       "  <tbody>\n",
       "    <tr>\n",
       "      <th>0</th>\n",
       "      <td>XGBOOST REGRESSOR</td>\n",
       "      <td>TRAIN</td>\n",
       "      <td>0.998658</td>\n",
       "      <td>0.473828</td>\n",
       "      <td>0.573842</td>\n",
       "      <td>0.757524</td>\n",
       "      <td>0.018191</td>\n",
       "    </tr>\n",
       "    <tr>\n",
       "      <th>1</th>\n",
       "      <td>XGBOOST REGRESSOR</td>\n",
       "      <td>TEST</td>\n",
       "      <td>0.995584</td>\n",
       "      <td>0.623557</td>\n",
       "      <td>1.862566</td>\n",
       "      <td>1.364758</td>\n",
       "      <td>0.021946</td>\n",
       "    </tr>\n",
       "    <tr>\n",
       "      <th>2</th>\n",
       "      <td>XGBOOST REGRESSOR WITH GCV</td>\n",
       "      <td>TRAIN</td>\n",
       "      <td>0.998410</td>\n",
       "      <td>0.511570</td>\n",
       "      <td>0.679957</td>\n",
       "      <td>0.824595</td>\n",
       "      <td>0.019375</td>\n",
       "    </tr>\n",
       "    <tr>\n",
       "      <th>3</th>\n",
       "      <td>XGBOOST REGRESSOR WITH GCV</td>\n",
       "      <td>TEST</td>\n",
       "      <td>0.995750</td>\n",
       "      <td>0.628803</td>\n",
       "      <td>1.792432</td>\n",
       "      <td>1.338817</td>\n",
       "      <td>0.022236</td>\n",
       "    </tr>\n",
       "  </tbody>\n",
       "</table>\n",
       "</div>"
      ],
      "text/plain": [
       "                        MODEL   DATA        R2       MAE       MSE      RMSE  \\\n",
       "0           XGBOOST REGRESSOR  TRAIN  0.998658  0.473828  0.573842  0.757524   \n",
       "1           XGBOOST REGRESSOR   TEST  0.995584  0.623557  1.862566  1.364758   \n",
       "2  XGBOOST REGRESSOR WITH GCV  TRAIN  0.998410  0.511570  0.679957  0.824595   \n",
       "3  XGBOOST REGRESSOR WITH GCV   TEST  0.995750  0.628803  1.792432  1.338817   \n",
       "\n",
       "       MAPE  \n",
       "0  0.018191  \n",
       "1  0.021946  \n",
       "2  0.019375  \n",
       "3  0.022236  "
      ]
     },
     "execution_count": 156,
     "metadata": {},
     "output_type": "execute_result"
    }
   ],
   "source": [
    "score_card"
   ]
  },
  {
   "cell_type": "code",
   "execution_count": 157,
   "id": "b6d4a02f",
   "metadata": {},
   "outputs": [
    {
     "data": {
      "text/plain": [
       "trip_distance           0.711590\n",
       "trip_duration_secs      0.097655\n",
       "tip_amount              0.049429\n",
       "tolls_amount            0.043599\n",
       "RatecodeID_2.0          0.043149\n",
       "extra                   0.013252\n",
       "RatecodeID_5.0          0.010313\n",
       "DOLocationID            0.007667\n",
       "RatecodeID_4.0          0.004460\n",
       "RatecodeID_3.0          0.004241\n",
       "congestion_surcharge    0.003743\n",
       "pickup_day_Tuesday      0.002594\n",
       "pickup_day_Thursday     0.002501\n",
       "PULocationID            0.002064\n",
       "pickup_mins             0.001183\n",
       "Airport_fee             0.000778\n",
       "pickup_hour_17          0.000742\n",
       "pickup_day_Wednesday    0.000450\n",
       "pickup_day_Monday       0.000243\n",
       "pickup_hour_18          0.000232\n",
       "pickup_hour_19          0.000115\n",
       "dtype: float32"
      ]
     },
     "execution_count": 157,
     "metadata": {},
     "output_type": "execute_result"
    }
   ],
   "source": [
    "# Feature importance of XGBoost GSCV \n",
    "\n",
    "features = pd.Series(xgb.feature_importances_, index=xgb.feature_names_in_)\n",
    "features.sort_values(ascending=False)"
   ]
  },
  {
   "cell_type": "markdown",
   "id": "1102d400",
   "metadata": {},
   "source": [
    "<b>CROSS VALIDATION</b>"
   ]
  },
  {
   "cell_type": "code",
   "execution_count": null,
   "id": "ba825f55",
   "metadata": {},
   "outputs": [],
   "source": [
    "# train test split for cross validation\n",
    "\n",
    "Xtrain1,Xtest1,ytrain1,ytest1 = train_test_split(X,y,test_size=0.3,random_state=1)"
   ]
  },
  {
   "cell_type": "code",
   "execution_count": null,
   "id": "ab69f960",
   "metadata": {},
   "outputs": [],
   "source": [
    "# stating the number of folds\n",
    "kf = KFold(n_splits = 5)"
   ]
  },
  {
   "cell_type": "code",
   "execution_count": null,
   "id": "83841c9d",
   "metadata": {},
   "outputs": [],
   "source": [
    "def cv(model,xtrain,xtest,ytrain,ytest):\n",
    "    model.fit(xtrain,ytrain)\n",
    "    return model.score(xtest,ytest)"
   ]
  },
  {
   "cell_type": "code",
   "execution_count": 159,
   "id": "009a01be",
   "metadata": {},
   "outputs": [
    {
     "data": {
      "text/plain": [
       "[0.9959468712697152,\n",
       " 0.9931604614226276,\n",
       " 0.9954494219631257,\n",
       " 0.9952487039027472,\n",
       " 0.9943398060405997]"
      ]
     },
     "execution_count": 159,
     "metadata": {},
     "output_type": "execute_result"
    }
   ],
   "source": [
    "# Cross validation of selected XGB regressor\n",
    "cv_scores4 = []\n",
    "\n",
    "for train_index,test_index in kf.split(Xtrain1):\n",
    "    Xtr,Xt,ytr,yt = Xtrain1.iloc[train_index],Xtrain1.iloc[test_index],ytrain1.iloc[train_index],ytrain1.iloc[test_index]\n",
    "    Xtr = preprocessing_df2(Xtr,ytr)\n",
    "    Xt = preprocessing_df2(Xt,yt)\n",
    "    \n",
    "    cv_scores4.append(cv(xgb,Xtr,Xt,ytr,yt))\n",
    "    \n",
    "cv_scores4"
   ]
  },
  {
   "cell_type": "code",
   "execution_count": null,
   "id": "ee12f67d",
   "metadata": {},
   "outputs": [],
   "source": [
    "# Since the cross validation also seems to consistent, \n",
    "# we can conclude that Xtreme gradient boost regressor is the best model for predicting total amount"
   ]
  },
  {
   "cell_type": "markdown",
   "id": "b711c521",
   "metadata": {},
   "source": [
    "## MODEL BUILDING WITH LOGICAL FEATURES"
   ]
  },
  {
   "cell_type": "code",
   "execution_count": 160,
   "id": "eb719406",
   "metadata": {},
   "outputs": [],
   "source": [
    "# create a copy of the original dataframe\n",
    "df5 = df.copy()"
   ]
  },
  {
   "cell_type": "code",
   "execution_count": 161,
   "id": "30bcf727",
   "metadata": {},
   "outputs": [],
   "source": [
    "# dropping the additional columns\n",
    "df5.drop(columns=['pickup_date','dropoff_date','tpep_pickup_datetime','tpep_dropoff_datetime', 'PU_Zone', 'PU_service_zone', 'DO_Zone','DO_service_zone','trip_duration_secs','tip_amount', 'VendorID'],inplace=True)"
   ]
  },
  {
   "cell_type": "code",
   "execution_count": 162,
   "id": "ec8ef8f8",
   "metadata": {},
   "outputs": [],
   "source": [
    "#logically wrong columns and columns with no variance are being dropped\n",
    "df5.drop(columns=['store_and_fwd_flag','passenger_count','payment_type','fare_amount','mta_tax','improvement_surcharge','drop_hour'],inplace=True)"
   ]
  },
  {
   "cell_type": "code",
   "execution_count": 167,
   "id": "2e1a8d90",
   "metadata": {},
   "outputs": [],
   "source": [
    "def preprocessing_df(data,y):\n",
    "    ss=StandardScaler()\n",
    "    numeric_ind = data.select_dtypes(include='number').drop(columns=['RatecodeID','PULocationID','DOLocationID','pickup_hour','pickup_mins'])\n",
    "    scaled = ss.fit_transform(numeric_ind)\n",
    "    scaled_num = pd.DataFrame(scaled,columns=numeric_ind.columns)\n",
    "\n",
    "    \n",
    "    TE= TargetEncoder(cols=['PULocationID','DOLocationID','pickup_mins'])\n",
    "    tencod = TE.fit_transform(data[['PULocationID','DOLocationID','pickup_mins']],y).reset_index(drop=True)\n",
    "\n",
    "    \n",
    "    ohe = pd.get_dummies((data[['RatecodeID','pickup_hour', 'pickup_day']]).astype('object'),drop_first=True).reset_index(drop=True)\n",
    "    cat = pd.concat([tencod,ohe],axis=1)\n",
    "\n",
    "\n",
    "    finaldf = pd.concat([scaled_num,cat],axis=1)\n",
    "\n",
    "    \n",
    "    return finaldf"
   ]
  },
  {
   "cell_type": "code",
   "execution_count": 168,
   "id": "786fb06c",
   "metadata": {},
   "outputs": [],
   "source": [
    "# train test split\n",
    "X= df5.drop(columns=['total_amount'])\n",
    "y= df5.total_amount\n",
    "\n",
    "Xtrain,Xtest,ytrain,ytest = train_test_split(X,y,test_size=0.3,random_state=1)\n",
    "\n",
    "Xtrain = preprocessing_df(Xtrain,ytrain)\n",
    "Xtest = preprocessing_df(Xtest,ytest)"
   ]
  },
  {
   "cell_type": "code",
   "execution_count": 201,
   "id": "e76763b5",
   "metadata": {},
   "outputs": [],
   "source": [
    "# creating a dataframe to compare\n",
    "score_card = pd.DataFrame(columns=['MODEL','DATA','R2','MAE','MSE','RMSE','MAPE'])"
   ]
  },
  {
   "cell_type": "code",
   "execution_count": 202,
   "id": "0f3e5492",
   "metadata": {},
   "outputs": [],
   "source": [
    "# Instantiating Non-linear models\n",
    "\n",
    "#KNN\n",
    "knr = KNeighborsRegressor(n_neighbors = 3)\n",
    "knr.fit(Xtrain,ytrain)\n",
    "model_performance(knr,ytrain,Xtrain,'TRAIN','K-NEAREST REGRESSOR')\n",
    "model_performance(knr,ytest,Xtest,'TEST','K-NEAREST REGRESSOR')\n",
    "\n",
    "#DECISION TREE\n",
    "DTR = DecisionTreeRegressor(max_depth = 5)\n",
    "DTR.fit(Xtrain,ytrain)\n",
    "model_performance(DTR,ytrain,Xtrain,'TRAIN','DECISION TREE REGRESSOR')\n",
    "model_performance(DTR,ytest,Xtest,'TEST','DECISION TREE REGRESSOR')\n",
    "\n",
    "#RANDOM FOREST\n",
    "rfr = RandomForestRegressor()\n",
    "rfr.fit(Xtrain,ytrain)\n",
    "model_performance(rfr,ytrain,Xtrain,'TRAIN','RANDOM FOREST REGRESSOR')\n",
    "model_performance(rfr,ytest,Xtest,'TEST','RANDOM FOREST REGRESSOR')\n",
    "\n",
    "#ADA BOOST\n",
    "abr = AdaBoostRegressor()\n",
    "abr.fit(Xtrain,ytrain)\n",
    "model_performance(abr,ytrain,Xtrain,'TRAIN','ADA BOOST REGRESSOR')\n",
    "model_performance(abr,ytest,Xtest,'TEST','ADA BOOST REGRESSOR')\n",
    "\n",
    "#GRADIENT BOOST\n",
    "GB = GradientBoostingRegressor()\n",
    "GB.fit(Xtrain,ytrain)\n",
    "model_performance(GB,ytrain,Xtrain,'TRAIN','GRADIENT BOOST REGRESSOR')\n",
    "model_performance(GB,ytest,Xtest,'TEST','GRADIENT BOOST REGRESSOR')\n",
    "\n",
    "#XGBOOST\n",
    "xg = XGBRegressor()\n",
    "xg.fit(Xtrain,ytrain)\n",
    "model_performance(xg,ytrain,Xtrain,'TRAIN','XGBOOST REGRESSOR')\n",
    "model_performance(xg,ytest,Xtest,'TEST','XGBOOST REGRESSOR')"
   ]
  },
  {
   "cell_type": "code",
   "execution_count": 203,
   "id": "c3daa4f9",
   "metadata": {},
   "outputs": [
    {
     "data": {
      "text/html": [
       "<div>\n",
       "<style scoped>\n",
       "    .dataframe tbody tr th:only-of-type {\n",
       "        vertical-align: middle;\n",
       "    }\n",
       "\n",
       "    .dataframe tbody tr th {\n",
       "        vertical-align: top;\n",
       "    }\n",
       "\n",
       "    .dataframe thead th {\n",
       "        text-align: right;\n",
       "    }\n",
       "</style>\n",
       "<table border=\"1\" class=\"dataframe\">\n",
       "  <thead>\n",
       "    <tr style=\"text-align: right;\">\n",
       "      <th></th>\n",
       "      <th>MODEL</th>\n",
       "      <th>DATA</th>\n",
       "      <th>R2</th>\n",
       "      <th>MAE</th>\n",
       "      <th>MSE</th>\n",
       "      <th>RMSE</th>\n",
       "      <th>MAPE</th>\n",
       "    </tr>\n",
       "  </thead>\n",
       "  <tbody>\n",
       "    <tr>\n",
       "      <th>0</th>\n",
       "      <td>K-NEAREST REGRESSOR</td>\n",
       "      <td>TRAIN</td>\n",
       "      <td>0.962085</td>\n",
       "      <td>2.700069</td>\n",
       "      <td>16.209082</td>\n",
       "      <td>4.026050</td>\n",
       "      <td>0.101433</td>\n",
       "    </tr>\n",
       "    <tr>\n",
       "      <th>1</th>\n",
       "      <td>K-NEAREST REGRESSOR</td>\n",
       "      <td>TEST</td>\n",
       "      <td>0.905863</td>\n",
       "      <td>4.378675</td>\n",
       "      <td>39.705333</td>\n",
       "      <td>6.301217</td>\n",
       "      <td>0.167158</td>\n",
       "    </tr>\n",
       "    <tr>\n",
       "      <th>2</th>\n",
       "      <td>DECISION TREE REGRESSOR</td>\n",
       "      <td>TRAIN</td>\n",
       "      <td>0.944255</td>\n",
       "      <td>3.236258</td>\n",
       "      <td>23.831876</td>\n",
       "      <td>4.881790</td>\n",
       "      <td>0.118577</td>\n",
       "    </tr>\n",
       "    <tr>\n",
       "      <th>3</th>\n",
       "      <td>DECISION TREE REGRESSOR</td>\n",
       "      <td>TEST</td>\n",
       "      <td>0.945580</td>\n",
       "      <td>3.232409</td>\n",
       "      <td>22.953231</td>\n",
       "      <td>4.790953</td>\n",
       "      <td>0.117866</td>\n",
       "    </tr>\n",
       "    <tr>\n",
       "      <th>4</th>\n",
       "      <td>RANDOM FOREST REGRESSOR</td>\n",
       "      <td>TRAIN</td>\n",
       "      <td>0.994073</td>\n",
       "      <td>1.037813</td>\n",
       "      <td>2.533659</td>\n",
       "      <td>1.591747</td>\n",
       "      <td>0.037547</td>\n",
       "    </tr>\n",
       "    <tr>\n",
       "      <th>5</th>\n",
       "      <td>RANDOM FOREST REGRESSOR</td>\n",
       "      <td>TEST</td>\n",
       "      <td>0.957906</td>\n",
       "      <td>2.840016</td>\n",
       "      <td>17.754228</td>\n",
       "      <td>4.213577</td>\n",
       "      <td>0.102771</td>\n",
       "    </tr>\n",
       "    <tr>\n",
       "      <th>6</th>\n",
       "      <td>ADA BOOST REGRESSOR</td>\n",
       "      <td>TRAIN</td>\n",
       "      <td>0.686235</td>\n",
       "      <td>9.909049</td>\n",
       "      <td>134.138556</td>\n",
       "      <td>11.581820</td>\n",
       "      <td>0.463160</td>\n",
       "    </tr>\n",
       "    <tr>\n",
       "      <th>7</th>\n",
       "      <td>ADA BOOST REGRESSOR</td>\n",
       "      <td>TEST</td>\n",
       "      <td>0.683679</td>\n",
       "      <td>9.883858</td>\n",
       "      <td>133.417990</td>\n",
       "      <td>11.550671</td>\n",
       "      <td>0.460836</td>\n",
       "    </tr>\n",
       "    <tr>\n",
       "      <th>8</th>\n",
       "      <td>GRADIENT BOOST REGRESSOR</td>\n",
       "      <td>TRAIN</td>\n",
       "      <td>0.960541</td>\n",
       "      <td>2.764811</td>\n",
       "      <td>16.869270</td>\n",
       "      <td>4.107222</td>\n",
       "      <td>0.100009</td>\n",
       "    </tr>\n",
       "    <tr>\n",
       "      <th>9</th>\n",
       "      <td>GRADIENT BOOST REGRESSOR</td>\n",
       "      <td>TEST</td>\n",
       "      <td>0.959667</td>\n",
       "      <td>2.772439</td>\n",
       "      <td>17.011466</td>\n",
       "      <td>4.124496</td>\n",
       "      <td>0.099487</td>\n",
       "    </tr>\n",
       "    <tr>\n",
       "      <th>10</th>\n",
       "      <td>XGBOOST REGRESSOR</td>\n",
       "      <td>TRAIN</td>\n",
       "      <td>0.972378</td>\n",
       "      <td>2.414157</td>\n",
       "      <td>11.808938</td>\n",
       "      <td>3.436414</td>\n",
       "      <td>0.090889</td>\n",
       "    </tr>\n",
       "    <tr>\n",
       "      <th>11</th>\n",
       "      <td>XGBOOST REGRESSOR</td>\n",
       "      <td>TEST</td>\n",
       "      <td>0.959332</td>\n",
       "      <td>2.770775</td>\n",
       "      <td>17.152783</td>\n",
       "      <td>4.141592</td>\n",
       "      <td>0.098772</td>\n",
       "    </tr>\n",
       "  </tbody>\n",
       "</table>\n",
       "</div>"
      ],
      "text/plain": [
       "                       MODEL   DATA        R2       MAE         MSE  \\\n",
       "0        K-NEAREST REGRESSOR  TRAIN  0.962085  2.700069   16.209082   \n",
       "1        K-NEAREST REGRESSOR   TEST  0.905863  4.378675   39.705333   \n",
       "2    DECISION TREE REGRESSOR  TRAIN  0.944255  3.236258   23.831876   \n",
       "3    DECISION TREE REGRESSOR   TEST  0.945580  3.232409   22.953231   \n",
       "4    RANDOM FOREST REGRESSOR  TRAIN  0.994073  1.037813    2.533659   \n",
       "5    RANDOM FOREST REGRESSOR   TEST  0.957906  2.840016   17.754228   \n",
       "6        ADA BOOST REGRESSOR  TRAIN  0.686235  9.909049  134.138556   \n",
       "7        ADA BOOST REGRESSOR   TEST  0.683679  9.883858  133.417990   \n",
       "8   GRADIENT BOOST REGRESSOR  TRAIN  0.960541  2.764811   16.869270   \n",
       "9   GRADIENT BOOST REGRESSOR   TEST  0.959667  2.772439   17.011466   \n",
       "10         XGBOOST REGRESSOR  TRAIN  0.972378  2.414157   11.808938   \n",
       "11         XGBOOST REGRESSOR   TEST  0.959332  2.770775   17.152783   \n",
       "\n",
       "         RMSE      MAPE  \n",
       "0    4.026050  0.101433  \n",
       "1    6.301217  0.167158  \n",
       "2    4.881790  0.118577  \n",
       "3    4.790953  0.117866  \n",
       "4    1.591747  0.037547  \n",
       "5    4.213577  0.102771  \n",
       "6   11.581820  0.463160  \n",
       "7   11.550671  0.460836  \n",
       "8    4.107222  0.100009  \n",
       "9    4.124496  0.099487  \n",
       "10   3.436414  0.090889  \n",
       "11   4.141592  0.098772  "
      ]
     },
     "execution_count": 203,
     "metadata": {},
     "output_type": "execute_result"
    }
   ],
   "source": [
    "score_card"
   ]
  },
  {
   "cell_type": "code",
   "execution_count": null,
   "id": "2f161716",
   "metadata": {},
   "outputs": [],
   "source": [
    "# Printing the feature importance of each model"
   ]
  },
  {
   "cell_type": "code",
   "execution_count": 171,
   "id": "74cc9201",
   "metadata": {},
   "outputs": [
    {
     "data": {
      "text/plain": [
       "trip_distance           0.937437\n",
       "tolls_amount            0.012125\n",
       "pickup_mins             0.009259\n",
       "DOLocationID            0.009193\n",
       "RatecodeID_2.0          0.008323\n",
       "PULocationID            0.006847\n",
       "pickup_day_Wednesday    0.002708\n",
       "extra                   0.002209\n",
       "pickup_hour_19          0.002164\n",
       "RatecodeID_5.0          0.001832\n",
       "congestion_surcharge    0.001724\n",
       "pickup_hour_18          0.001422\n",
       "pickup_hour_17          0.001154\n",
       "pickup_day_Monday       0.000939\n",
       "pickup_day_Tuesday      0.000910\n",
       "pickup_day_Thursday     0.000862\n",
       "RatecodeID_3.0          0.000452\n",
       "Airport_fee             0.000234\n",
       "RatecodeID_4.0          0.000206\n",
       "dtype: float64"
      ]
     },
     "execution_count": 171,
     "metadata": {},
     "output_type": "execute_result"
    }
   ],
   "source": [
    "## RANDOM FOREST ##\n",
    "features = pd.Series(rfr.feature_importances_, index=rfr.feature_names_in_)\n",
    "\n",
    "features.sort_values(ascending=False)"
   ]
  },
  {
   "cell_type": "code",
   "execution_count": 172,
   "id": "0af44aaf",
   "metadata": {},
   "outputs": [
    {
     "data": {
      "text/plain": [
       "trip_distance           0.979446\n",
       "tolls_amount            0.011984\n",
       "RatecodeID_2.0          0.007342\n",
       "congestion_surcharge    0.001042\n",
       "extra                   0.000187\n",
       "pickup_hour_17          0.000000\n",
       "pickup_day_Tuesday      0.000000\n",
       "pickup_day_Thursday     0.000000\n",
       "pickup_day_Monday       0.000000\n",
       "pickup_hour_19          0.000000\n",
       "pickup_hour_18          0.000000\n",
       "RatecodeID_3.0          0.000000\n",
       "RatecodeID_5.0          0.000000\n",
       "RatecodeID_4.0          0.000000\n",
       "pickup_mins             0.000000\n",
       "DOLocationID            0.000000\n",
       "PULocationID            0.000000\n",
       "Airport_fee             0.000000\n",
       "pickup_day_Wednesday    0.000000\n",
       "dtype: float64"
      ]
     },
     "execution_count": 172,
     "metadata": {},
     "output_type": "execute_result"
    }
   ],
   "source": [
    "## DECISION TREE ##\n",
    "\n",
    "features = pd.Series(DTR.feature_importances_, index=rfr.feature_names_in_)\n",
    "features.sort_values(ascending=False)"
   ]
  },
  {
   "cell_type": "code",
   "execution_count": 173,
   "id": "e03026ac",
   "metadata": {},
   "outputs": [
    {
     "data": {
      "text/plain": [
       "trip_distance           0.958678\n",
       "tolls_amount            0.018921\n",
       "RatecodeID_2.0          0.008541\n",
       "extra                   0.002957\n",
       "DOLocationID            0.002413\n",
       "pickup_day_Wednesday    0.002274\n",
       "pickup_hour_19          0.001605\n",
       "RatecodeID_5.0          0.001426\n",
       "congestion_surcharge    0.001145\n",
       "PULocationID            0.000718\n",
       "pickup_hour_18          0.000511\n",
       "RatecodeID_3.0          0.000388\n",
       "RatecodeID_4.0          0.000184\n",
       "pickup_mins             0.000112\n",
       "pickup_hour_17          0.000051\n",
       "pickup_day_Monday       0.000048\n",
       "pickup_day_Tuesday      0.000025\n",
       "pickup_day_Thursday     0.000003\n",
       "Airport_fee             0.000000\n",
       "dtype: float64"
      ]
     },
     "execution_count": 173,
     "metadata": {},
     "output_type": "execute_result"
    }
   ],
   "source": [
    "## Gradient Boost ##\n",
    "\n",
    "features = pd.Series(GB.feature_importances_, index=rfr.feature_names_in_)\n",
    "features.sort_values(ascending=False)"
   ]
  },
  {
   "cell_type": "code",
   "execution_count": 174,
   "id": "4b54155f",
   "metadata": {},
   "outputs": [
    {
     "data": {
      "text/plain": [
       "trip_distance           0.652795\n",
       "RatecodeID_2.0          0.108833\n",
       "tolls_amount            0.070926\n",
       "RatecodeID_5.0          0.029349\n",
       "congestion_surcharge    0.020446\n",
       "extra                   0.019491\n",
       "pickup_day_Wednesday    0.017634\n",
       "RatecodeID_3.0          0.016956\n",
       "pickup_hour_19          0.015957\n",
       "RatecodeID_4.0          0.011602\n",
       "pickup_hour_18          0.009285\n",
       "DOLocationID            0.005138\n",
       "PULocationID            0.004756\n",
       "pickup_day_Monday       0.004202\n",
       "pickup_hour_17          0.003422\n",
       "pickup_mins             0.002563\n",
       "pickup_day_Tuesday      0.002384\n",
       "Airport_fee             0.002353\n",
       "pickup_day_Thursday     0.001909\n",
       "dtype: float32"
      ]
     },
     "execution_count": 174,
     "metadata": {},
     "output_type": "execute_result"
    }
   ],
   "source": [
    "## XGBoost ##\n",
    "\n",
    "features = pd.Series(xg.feature_importances_, index=rfr.feature_names_in_)\n",
    "features.sort_values(ascending=False)"
   ]
  },
  {
   "cell_type": "markdown",
   "id": "d27ec7c4",
   "metadata": {},
   "source": [
    "<b>GRIDSEARCH CV</b>"
   ]
  },
  {
   "cell_type": "code",
   "execution_count": 198,
   "id": "496dde85",
   "metadata": {},
   "outputs": [],
   "source": [
    "# Gridsearch CV for XGB Regressor\n",
    "\n",
    "xgb = XGBRegressor()\n",
    "\n",
    "tuned_params = {'n_estimators' :[100,150,200],\n",
    "                'learning_rate': [0.1, 0.2, 0.3, 0.4, 0.5, 0.6],\n",
    "                'max_depth': range(3,10),\n",
    "                'gamma': [0, 1, 2, 3, 4]}\n",
    "\n",
    "grid_xgb = GridSearchCV(xgb, tuned_params, n_jobs=-1, cv=2)"
   ]
  },
  {
   "cell_type": "code",
   "execution_count": 199,
   "id": "1395ac48",
   "metadata": {},
   "outputs": [
    {
     "data": {
      "text/plain": [
       "GridSearchCV(cv=2,\n",
       "             estimator=XGBRegressor(base_score=None, booster=None,\n",
       "                                    callbacks=None, colsample_bylevel=None,\n",
       "                                    colsample_bynode=None,\n",
       "                                    colsample_bytree=None,\n",
       "                                    early_stopping_rounds=None,\n",
       "                                    enable_categorical=False, eval_metric=None,\n",
       "                                    feature_types=None, gamma=None, gpu_id=None,\n",
       "                                    grow_policy=None, importance_type=None,\n",
       "                                    interaction_constraints=None,\n",
       "                                    learning_rate=None, m...\n",
       "                                    max_cat_to_onehot=None, max_delta_step=None,\n",
       "                                    max_depth=None, max_leaves=None,\n",
       "                                    min_child_weight=None, missing=nan,\n",
       "                                    monotone_constraints=None, n_estimators=100,\n",
       "                                    n_jobs=None, num_parallel_tree=None,\n",
       "                                    predictor=None, random_state=None, ...),\n",
       "             n_jobs=-1,\n",
       "             param_grid={'gamma': [0, 1, 2, 3, 4],\n",
       "                         'learning_rate': [0.1, 0.2, 0.3, 0.4, 0.5, 0.6],\n",
       "                         'max_depth': range(3, 10),\n",
       "                         'n_estimators': [100, 150, 200]})"
      ]
     },
     "execution_count": 199,
     "metadata": {},
     "output_type": "execute_result"
    }
   ],
   "source": [
    "grid_xgb.fit(Xtrain,ytrain)"
   ]
  },
  {
   "cell_type": "code",
   "execution_count": 200,
   "id": "5471a784",
   "metadata": {},
   "outputs": [
    {
     "data": {
      "text/plain": [
       "{'gamma': 0, 'learning_rate': 0.1, 'max_depth': 6, 'n_estimators': 200}"
      ]
     },
     "execution_count": 200,
     "metadata": {},
     "output_type": "execute_result"
    }
   ],
   "source": [
    "# best hyper paramters for XGB\n",
    "grid_xgb.best_params_"
   ]
  },
  {
   "cell_type": "code",
   "execution_count": 209,
   "id": "6ddba94d",
   "metadata": {},
   "outputs": [],
   "source": [
    "# XGB model after gscv\n",
    "xgb = XGBRegressor(gamma= 0, learning_rate= 0.1, max_depth= 6, n_estimators= 200)\n",
    "xgb.fit(Xtrain,ytrain)\n",
    "model_performance(xgb,ytrain,Xtrain,'TRAIN','XGBOOST REGRESSOR WITH GCV')\n",
    "model_performance(xgb,ytest,Xtest,'TEST','XGBOOST REGRESSOR WITH GCV')"
   ]
  },
  {
   "cell_type": "code",
   "execution_count": 7,
   "id": "cd3719d0",
   "metadata": {},
   "outputs": [
    {
     "data": {
      "text/html": [
       "<div>\n",
       "<style scoped>\n",
       "    .dataframe tbody tr th:only-of-type {\n",
       "        vertical-align: middle;\n",
       "    }\n",
       "\n",
       "    .dataframe tbody tr th {\n",
       "        vertical-align: top;\n",
       "    }\n",
       "\n",
       "    .dataframe thead th {\n",
       "        text-align: right;\n",
       "    }\n",
       "</style>\n",
       "<table border=\"1\" class=\"dataframe\">\n",
       "  <thead>\n",
       "    <tr style=\"text-align: right;\">\n",
       "      <th></th>\n",
       "      <th>MODEL</th>\n",
       "      <th>DATA</th>\n",
       "      <th>R2</th>\n",
       "      <th>MAE</th>\n",
       "      <th>MSE</th>\n",
       "      <th>RMSE</th>\n",
       "      <th>MAPE</th>\n",
       "    </tr>\n",
       "  </thead>\n",
       "  <tbody>\n",
       "    <tr>\n",
       "      <th>0</th>\n",
       "      <td>K-NEAREST REGRESSOR</td>\n",
       "      <td>TRAIN</td>\n",
       "      <td>0.962085</td>\n",
       "      <td>2.700069</td>\n",
       "      <td>16.209082</td>\n",
       "      <td>4.026050</td>\n",
       "      <td>0.101433</td>\n",
       "    </tr>\n",
       "    <tr>\n",
       "      <th>1</th>\n",
       "      <td>K-NEAREST REGRESSOR</td>\n",
       "      <td>TEST</td>\n",
       "      <td>0.905863</td>\n",
       "      <td>4.378675</td>\n",
       "      <td>39.705333</td>\n",
       "      <td>6.301217</td>\n",
       "      <td>0.167158</td>\n",
       "    </tr>\n",
       "    <tr>\n",
       "      <th>2</th>\n",
       "      <td>DECISION TREE REGRESSOR</td>\n",
       "      <td>TRAIN</td>\n",
       "      <td>0.944255</td>\n",
       "      <td>3.236258</td>\n",
       "      <td>23.831876</td>\n",
       "      <td>4.881790</td>\n",
       "      <td>0.118577</td>\n",
       "    </tr>\n",
       "    <tr>\n",
       "      <th>3</th>\n",
       "      <td>DECISION TREE REGRESSOR</td>\n",
       "      <td>TEST</td>\n",
       "      <td>0.945580</td>\n",
       "      <td>3.232409</td>\n",
       "      <td>22.953231</td>\n",
       "      <td>4.790953</td>\n",
       "      <td>0.117866</td>\n",
       "    </tr>\n",
       "    <tr>\n",
       "      <th>4</th>\n",
       "      <td>RANDOM FOREST REGRESSOR</td>\n",
       "      <td>TRAIN</td>\n",
       "      <td>0.994073</td>\n",
       "      <td>1.037813</td>\n",
       "      <td>2.533659</td>\n",
       "      <td>1.591747</td>\n",
       "      <td>0.037547</td>\n",
       "    </tr>\n",
       "    <tr>\n",
       "      <th>5</th>\n",
       "      <td>RANDOM FOREST REGRESSOR</td>\n",
       "      <td>TEST</td>\n",
       "      <td>0.957906</td>\n",
       "      <td>2.840016</td>\n",
       "      <td>17.754228</td>\n",
       "      <td>4.213577</td>\n",
       "      <td>0.102771</td>\n",
       "    </tr>\n",
       "    <tr>\n",
       "      <th>6</th>\n",
       "      <td>ADA BOOST REGRESSOR</td>\n",
       "      <td>TRAIN</td>\n",
       "      <td>0.686235</td>\n",
       "      <td>9.909049</td>\n",
       "      <td>134.138556</td>\n",
       "      <td>11.581820</td>\n",
       "      <td>0.463160</td>\n",
       "    </tr>\n",
       "    <tr>\n",
       "      <th>7</th>\n",
       "      <td>ADA BOOST REGRESSOR</td>\n",
       "      <td>TEST</td>\n",
       "      <td>0.683679</td>\n",
       "      <td>9.883858</td>\n",
       "      <td>133.417990</td>\n",
       "      <td>11.550671</td>\n",
       "      <td>0.460836</td>\n",
       "    </tr>\n",
       "    <tr>\n",
       "      <th>8</th>\n",
       "      <td>GRADIENT BOOST REGRESSOR</td>\n",
       "      <td>TRAIN</td>\n",
       "      <td>0.960541</td>\n",
       "      <td>2.764811</td>\n",
       "      <td>16.869270</td>\n",
       "      <td>4.107222</td>\n",
       "      <td>0.100009</td>\n",
       "    </tr>\n",
       "    <tr>\n",
       "      <th>9</th>\n",
       "      <td>GRADIENT BOOST REGRESSOR</td>\n",
       "      <td>TEST</td>\n",
       "      <td>0.959667</td>\n",
       "      <td>2.772439</td>\n",
       "      <td>17.011466</td>\n",
       "      <td>4.124496</td>\n",
       "      <td>0.099487</td>\n",
       "    </tr>\n",
       "    <tr>\n",
       "      <th>10</th>\n",
       "      <td>XGBOOST REGRESSOR</td>\n",
       "      <td>TRAIN</td>\n",
       "      <td>0.972378</td>\n",
       "      <td>2.414157</td>\n",
       "      <td>11.808938</td>\n",
       "      <td>3.436414</td>\n",
       "      <td>0.090889</td>\n",
       "    </tr>\n",
       "    <tr>\n",
       "      <th>11</th>\n",
       "      <td>XGBOOST REGRESSOR</td>\n",
       "      <td>TEST</td>\n",
       "      <td>0.959332</td>\n",
       "      <td>2.770775</td>\n",
       "      <td>17.152783</td>\n",
       "      <td>4.141592</td>\n",
       "      <td>0.098772</td>\n",
       "    </tr>\n",
       "    <tr>\n",
       "      <th>12</th>\n",
       "      <td>XGBOOST REGRESSOR WITH GCV</td>\n",
       "      <td>TRAIN</td>\n",
       "      <td>0.970228</td>\n",
       "      <td>2.489653</td>\n",
       "      <td>12.727945</td>\n",
       "      <td>3.567625</td>\n",
       "      <td>0.092501</td>\n",
       "    </tr>\n",
       "    <tr>\n",
       "      <th>13</th>\n",
       "      <td>XGBOOST REGRESSOR WITH GCV</td>\n",
       "      <td>TEST</td>\n",
       "      <td>0.960704</td>\n",
       "      <td>2.727109</td>\n",
       "      <td>16.574191</td>\n",
       "      <td>4.071141</td>\n",
       "      <td>0.097374</td>\n",
       "    </tr>\n",
       "  </tbody>\n",
       "</table>\n",
       "</div>"
      ],
      "text/plain": [
       "                         MODEL   DATA        R2       MAE         MSE  \\\n",
       "0          K-NEAREST REGRESSOR  TRAIN  0.962085  2.700069   16.209082   \n",
       "1          K-NEAREST REGRESSOR   TEST  0.905863  4.378675   39.705333   \n",
       "2      DECISION TREE REGRESSOR  TRAIN  0.944255  3.236258   23.831876   \n",
       "3      DECISION TREE REGRESSOR   TEST  0.945580  3.232409   22.953231   \n",
       "4      RANDOM FOREST REGRESSOR  TRAIN  0.994073  1.037813    2.533659   \n",
       "5      RANDOM FOREST REGRESSOR   TEST  0.957906  2.840016   17.754228   \n",
       "6          ADA BOOST REGRESSOR  TRAIN  0.686235  9.909049  134.138556   \n",
       "7          ADA BOOST REGRESSOR   TEST  0.683679  9.883858  133.417990   \n",
       "8     GRADIENT BOOST REGRESSOR  TRAIN  0.960541  2.764811   16.869270   \n",
       "9     GRADIENT BOOST REGRESSOR   TEST  0.959667  2.772439   17.011466   \n",
       "10           XGBOOST REGRESSOR  TRAIN  0.972378  2.414157   11.808938   \n",
       "11           XGBOOST REGRESSOR   TEST  0.959332  2.770775   17.152783   \n",
       "12  XGBOOST REGRESSOR WITH GCV  TRAIN  0.970228  2.489653   12.727945   \n",
       "13  XGBOOST REGRESSOR WITH GCV   TEST  0.960704  2.727109   16.574191   \n",
       "\n",
       "         RMSE      MAPE  \n",
       "0    4.026050  0.101433  \n",
       "1    6.301217  0.167158  \n",
       "2    4.881790  0.118577  \n",
       "3    4.790953  0.117866  \n",
       "4    1.591747  0.037547  \n",
       "5    4.213577  0.102771  \n",
       "6   11.581820  0.463160  \n",
       "7   11.550671  0.460836  \n",
       "8    4.107222  0.100009  \n",
       "9    4.124496  0.099487  \n",
       "10   3.436414  0.090889  \n",
       "11   4.141592  0.098772  \n",
       "12   3.567625  0.092501  \n",
       "13   4.071141  0.097374  "
      ]
     },
     "execution_count": 7,
     "metadata": {},
     "output_type": "execute_result"
    }
   ],
   "source": [
    "score_card"
   ]
  },
  {
   "cell_type": "code",
   "execution_count": 211,
   "id": "18ffee55",
   "metadata": {},
   "outputs": [
    {
     "data": {
      "text/plain": [
       "trip_distance           0.724652\n",
       "RatecodeID_2.0          0.081158\n",
       "tolls_amount            0.056096\n",
       "RatecodeID_5.0          0.018971\n",
       "congestion_surcharge    0.018040\n",
       "extra                   0.017673\n",
       "pickup_hour_19          0.014756\n",
       "pickup_day_Wednesday    0.014312\n",
       "RatecodeID_3.0          0.010329\n",
       "pickup_hour_18          0.009809\n",
       "RatecodeID_4.0          0.007394\n",
       "DOLocationID            0.006444\n",
       "PULocationID            0.004492\n",
       "pickup_day_Monday       0.003634\n",
       "pickup_hour_17          0.003361\n",
       "Airport_fee             0.002908\n",
       "pickup_day_Tuesday      0.002280\n",
       "pickup_mins             0.002200\n",
       "pickup_day_Thursday     0.001492\n",
       "dtype: float32"
      ]
     },
     "execution_count": 211,
     "metadata": {},
     "output_type": "execute_result"
    }
   ],
   "source": [
    "# feature importance of XGB Regressor\n",
    "features = pd.Series(xgb.feature_importances_, index=xgb.feature_names_in_)\n",
    "features.sort_values(ascending=False)"
   ]
  },
  {
   "cell_type": "markdown",
   "id": "657eaba6",
   "metadata": {},
   "source": [
    "<b>CROSS VALIDATION</b>"
   ]
  },
  {
   "cell_type": "code",
   "execution_count": null,
   "id": "abbe05d6",
   "metadata": {},
   "outputs": [],
   "source": [
    "# cross validation performed for the best model (XGB Regressor)"
   ]
  },
  {
   "cell_type": "code",
   "execution_count": null,
   "id": "bfcd8fa3",
   "metadata": {},
   "outputs": [],
   "source": [
    "# train test split for cv\n",
    "\n",
    "Xtrain1,Xtest1,ytrain1,ytest1 = train_test_split(X,y,test_size=0.3,random_state=1)"
   ]
  },
  {
   "cell_type": "code",
   "execution_count": 191,
   "id": "0a2926ec",
   "metadata": {},
   "outputs": [
    {
     "data": {
      "text/plain": [
       "[0.9583076375511895,\n",
       " 0.9530383062238799,\n",
       " 0.9577956375110569,\n",
       " 0.9563562167506233,\n",
       " 0.9559003095113301]"
      ]
     },
     "execution_count": 191,
     "metadata": {},
     "output_type": "execute_result"
    }
   ],
   "source": [
    "cv_scores10 = []\n",
    "\n",
    "for train_index,test_index in kf.split(Xtrain1):\n",
    "    Xtr,Xt,ytr,yt = Xtrain1.iloc[train_index],Xtrain1.iloc[test_index],ytrain1.iloc[train_index],ytrain1.iloc[test_index]\n",
    "    Xtr = preprocessing_df(Xtr,ytr)\n",
    "    Xt = preprocessing_df(Xt,yt)\n",
    "    \n",
    "    cv_scores10.append(cv(xgb,Xtr,Xt,ytr,yt))\n",
    "    \n",
    "cv_scores10"
   ]
  },
  {
   "cell_type": "code",
   "execution_count": null,
   "id": "48f480d1",
   "metadata": {},
   "outputs": [],
   "source": [
    "# Since the cross validation also seems to consistent, \n",
    "# we can conclude that Xtreme gradient boost regressor is the best model for predicting total amount"
   ]
  }
 ],
 "metadata": {
  "kernelspec": {
   "display_name": "Python 3 (ipykernel)",
   "language": "python",
   "name": "python3"
  },
  "language_info": {
   "codemirror_mode": {
    "name": "ipython",
    "version": 3
   },
   "file_extension": ".py",
   "mimetype": "text/x-python",
   "name": "python",
   "nbconvert_exporter": "python",
   "pygments_lexer": "ipython3",
   "version": "3.9.13"
  }
 },
 "nbformat": 4,
 "nbformat_minor": 5
}
